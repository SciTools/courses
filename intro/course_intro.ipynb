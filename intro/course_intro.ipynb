{
 "metadata": {
  "name": "",
  "signature": "sha256:afd539e202b1d021c1a136f7de2f95d9fbaf4ced807d33e848e9dd3e389f3b2b"
 },
 "nbformat": 3,
 "nbformat_minor": 0,
 "worksheets": [
  {
   "cells": [
    {
     "cell_type": "markdown",
     "metadata": {},
     "source": [
      "# Welcome to the SciTools Courses! #"
     ]
    },
    {
     "cell_type": "markdown",
     "metadata": {},
     "source": [
      "## Getting the course content ##\n",
      "\n",
      "To gain access to a copy of the IPython Notebooks that contain the course material we'll be teaching you from over the next few days, follow the steps below. The command to run each step below is provided in the next cell down.\n",
      "\n",
      "<ul>\n",
      "<li>\n",
      "Copy the course content into a relevant location in your Linux homespace (indicated by `.` here):<br />\n",
      "`$ cp -r ~dkillick/Documents/teaching/scitools_courses .`<br /><br />\n",
      "</li>\n",
      "<li>\n",
      "Change to the `course content` directory in the directory you just copied:<br />\n",
      "`$ cd scitools_courses/course_content`<br /><br />\n",
      "</li>\n",
      "<li>\n",
      "Start the IPython notebook, being sure to include the matplotlib inline flag:<br />\n",
      "`$ ipython notebook --matplotlib=inline`\n",
      "</li>\n",
      "</ul>"
     ]
    },
    {
     "cell_type": "markdown",
     "metadata": {},
     "source": [
      "## Course layout ##\n",
      "\n",
      "We plan to run the courses to approximately the following schedule:"
     ]
    },
    {
     "cell_type": "markdown",
     "metadata": {},
     "source": [
      "<table>\n",
      "<tr>\n",
      "<th>&nbsp;</th><th>AM</th><th>PM</th>\n",
      "</tr>\n",
      "<tr>\n",
      "<td>Mon</td><td>NumPy</td><td>NumPy / matplotlib</td>\n",
      "</tr>\n",
      "<tr>\n",
      "<td>Tue</td><td>matplotlib/cartopy</td><td>Iris</td>\n",
      "</tr>\n",
      "<tr>\n",
      "<td>Wed</td><td>Iris</td><td>Iris</td>\n",
      "</tr>\n",
      "</table>"
     ]
    },
    {
     "cell_type": "markdown",
     "metadata": {},
     "source": [
      "## Course teachers ##\n",
      "\n",
      "Your teachers on the SciTools courses will be:\n",
      "\n",
      " * **Peter Killick**\n",
      " * **Laura Dreyer**\n",
      " * **Patrick Peglar**"
     ]
    }
   ],
   "metadata": {}
  }
 ]
}