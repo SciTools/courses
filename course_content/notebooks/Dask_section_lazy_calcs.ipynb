{
 "cells": [
  {
   "cell_type": "markdown",
   "metadata": {},
   "source": [
    "## Efficient calculations with Dask\n",
    "\n",
    "Inside cubes, Iris already supports lazy data.\n",
    "operations in various statistical functions and cube arithmetic.\n"
   ]
  },
  {
   "cell_type": "markdown",
   "metadata": {},
   "source": [
    "# basic winds code (NOT FUNCTIONAL)\n",
    "mean direction, mean + std-dev of windspeedwind_speed = (u*u + v*v) ** 0.5\n",
    "time_mean_windspd = wind_speed.collapsed('time', iris.analysis.MEAN)\n",
    "time_stdev_windspd = wind_speed.collapsed('time', iris.analysis.STD_DEV)\n",
    "wind_dirs = u.copy()\n",
    "wind_dirs.rename('wind_direction')\n",
    "wind_dirs.data = da.atan2(u.lazy_data(), v.lazy_data())\n",
    "wind_dirs.units = 'radians'\n",
    "time_mean_wind_dirs = wind_dirs.collapsed('time', iris.analysis.MEAN)"
   ]
  },
  {
   "cell_type": "code",
   "execution_count": null,
   "metadata": {},
   "outputs": [],
   "source": [
    "# basic winds code (NOT FUNCTIONAL)"
   ]
  },
  {
   "cell_type": "code",
   "execution_count": 1,
   "metadata": {},
   "outputs": [],
   "source": [
    "import iris\n",
    "from iris import sample_data_path\n",
    "import glob\n",
    "import dask\n",
    "import dask.array as da\n"
   ]
  },
  {
   "cell_type": "code",
   "execution_count": null,
   "metadata": {},
   "outputs": [],
   "source": []
  },
  {
   "cell_type": "code",
   "execution_count": 2,
   "metadata": {},
   "outputs": [
    {
     "name": "stdout",
     "output_type": "stream",
     "text": [
      "/home/h05/itpp/git/iris-sample-data/iris_sample_data/sample_data/UM/northward_sea_ice_velocity.1890.01.01.00.00.pp\n"
     ]
    }
   ],
   "source": [
    "filepaths = glob.glob(sample_data_path('UM', '*.pp'))\n",
    "filepath = filepaths[0]\n",
    "print filepath"
   ]
  },
  {
   "cell_type": "code",
   "execution_count": null,
   "metadata": {},
   "outputs": [],
   "source": [
    "cube = iris.load_cube(filepath)\n",
    "print cube"
   ]
  },
  {
   "cell_type": "code",
   "execution_count": null,
   "metadata": {},
   "outputs": [],
   "source": [
    "print cube.has_lazy_data()"
   ]
  },
  {
   "cell_type": "code",
   "execution_count": null,
   "metadata": {},
   "outputs": [],
   "source": [
    "print type(cube.core_data())"
   ]
  },
  {
   "cell_type": "code",
   "execution_count": null,
   "metadata": {},
   "outputs": [],
   "source": []
  },
  {
   "cell_type": "code",
   "execution_count": null,
   "metadata": {},
   "outputs": [],
   "source": [
    "# Define an wrapper to show us when the actual data is fetched.\n",
    "\n",
    "class Arraylike_AccessFlagged(object):\n",
    "    def __init__(self, array, name='A'):\n",
    "        self.dtype = array.dtype\n",
    "        self.shape = array.shape\n",
    "        self._array = array\n",
    "        self._name = name\n",
    "\n",
    "    def __getitem__(self, keys):\n",
    "        print \"\\nArray fetch {}[{}]\".format(self._name, keys)\n",
    "        return self._array[keys]\n",
    "\n",
    "def showaccess_lazy(data, chunks=None):\n",
    "    if chunks is None:\n",
    "        chunks = data.shape\n",
    "    return da.from_array(Arraylike_AccessFlagged(data), chunks)"
   ]
  },
  {
   "cell_type": "code",
   "execution_count": null,
   "metadata": {},
   "outputs": [],
   "source": [
    "import numpy as np\n",
    "real_test_data = np.arange(8.).reshape((2, 4))\n",
    "test_lazy_data = showaccess_lazy(real_test_data, chunks=(1, 4))\n",
    "print test_lazy_data"
   ]
  },
  {
   "cell_type": "code",
   "execution_count": null,
   "metadata": {},
   "outputs": [],
   "source": [
    "# This just shows us when data fetches occur.\n",
    "test_lazy_data.compute()"
   ]
  },
  {
   "cell_type": "code",
   "execution_count": null,
   "metadata": {},
   "outputs": [],
   "source": []
  },
  {
   "cell_type": "code",
   "execution_count": null,
   "metadata": {},
   "outputs": [],
   "source": [
    "# Now make a cube, derive a statistical calculation, and show what happens when we compute results.\n",
    "test_cube = cube.copy(data=showaccess_lazy(cube.data, chunks=(1, 360)))\n"
   ]
  },
  {
   "cell_type": "code",
   "execution_count": null,
   "metadata": {},
   "outputs": [],
   "source": [
    "test_cube"
   ]
  },
  {
   "cell_type": "code",
   "execution_count": null,
   "metadata": {},
   "outputs": [],
   "source": [
    "print test_cube"
   ]
  },
  {
   "cell_type": "code",
   "execution_count": null,
   "metadata": {},
   "outputs": [],
   "source": [
    "test_cube.copy().data[:2, :4]"
   ]
  },
  {
   "cell_type": "code",
   "execution_count": null,
   "metadata": {},
   "outputs": [],
   "source": [
    "test_zonal_average = test_cube.collapsed(['longitude'], iris.analysis.MEAN)"
   ]
  },
  {
   "cell_type": "code",
   "execution_count": null,
   "metadata": {},
   "outputs": [],
   "source": [
    "test_zonal_average[:3].copy().data"
   ]
  },
  {
   "cell_type": "code",
   "execution_count": null,
   "metadata": {},
   "outputs": [],
   "source": [
    "test_zonal_stdev = test_cube.collapsed(['longitude'], iris.analysis.STD_DEV)"
   ]
  },
  {
   "cell_type": "code",
   "execution_count": null,
   "metadata": {},
   "outputs": [],
   "source": [
    "test_zonal_stdev[:2].copy().data"
   ]
  },
  {
   "cell_type": "code",
   "execution_count": null,
   "metadata": {},
   "outputs": [],
   "source": [
    "test_cube.has_lazy_data()"
   ]
  },
  {
   "cell_type": "code",
   "execution_count": null,
   "metadata": {},
   "outputs": [],
   "source": [
    "test_cube = iris.load_cube(filepaths)\n",
    "test_zonal_average = test_cube.collapsed(['longitude'], iris.analysis.MEAN)\n",
    "test_zonal_stdev = test_cube.collapsed(['longitude'], iris.analysis.STD_DEV)"
   ]
  },
  {
   "cell_type": "code",
   "execution_count": null,
   "metadata": {},
   "outputs": [],
   "source": [
    "%%timeit\n",
    "av = test_zonal_average.copy().data"
   ]
  },
  {
   "cell_type": "code",
   "execution_count": null,
   "metadata": {},
   "outputs": [],
   "source": [
    "%%timeit\n",
    "stdev = test_zonal_stdev.copy().data"
   ]
  },
  {
   "cell_type": "code",
   "execution_count": null,
   "metadata": {},
   "outputs": [],
   "source": [
    "%%timeit\n",
    "av, stdev = da.compute(test_zonal_average.lazy_data(), test_zonal_stdev.lazy_data())"
   ]
  },
  {
   "cell_type": "code",
   "execution_count": null,
   "metadata": {},
   "outputs": [],
   "source": []
  },
  {
   "cell_type": "code",
   "execution_count": null,
   "metadata": {},
   "outputs": [],
   "source": [
    "# BECAUSE\n",
    "test_cube = iris.load_cube(filepaths)\n",
    "test_cube = test_cube.copy(data=showaccess_lazy(test_cube.lazy_data(), chunks=test_cube.shape))\n",
    "test_zonal_average = test_cube.collapsed(['longitude'], iris.analysis.MEAN)\n",
    "test_zonal_stdev = test_cube.collapsed(['longitude'], iris.analysis.STD_DEV)"
   ]
  },
  {
   "cell_type": "code",
   "execution_count": null,
   "metadata": {},
   "outputs": [],
   "source": [
    "%%timeit -n 1 -r 1\n",
    "av = test_zonal_average.copy().data\n",
    "print av[100, 20:23]"
   ]
  },
  {
   "cell_type": "code",
   "execution_count": null,
   "metadata": {},
   "outputs": [],
   "source": [
    "%%timeit -n 1 -r 1\n",
    "stdev = test_zonal_stdev.copy().data\n",
    "print stdev[100, 20:23]"
   ]
  },
  {
   "cell_type": "code",
   "execution_count": null,
   "metadata": {},
   "outputs": [],
   "source": [
    "%%timeit -n 1 -r 1\n",
    "av, stdev = da.compute(test_zonal_average.lazy_data(), test_zonal_stdev.lazy_data())\n",
    "print av[100, 20:23]\n",
    "print stdev[100, 20:23]"
   ]
  },
  {
   "cell_type": "code",
   "execution_count": null,
   "metadata": {},
   "outputs": [],
   "source": []
  },
  {
   "cell_type": "code",
   "execution_count": null,
   "metadata": {},
   "outputs": [],
   "source": []
  },
  {
   "cell_type": "code",
   "execution_count": null,
   "metadata": {},
   "outputs": [],
   "source": []
  },
  {
   "cell_type": "code",
   "execution_count": null,
   "metadata": {},
   "outputs": [],
   "source": []
  },
  {
   "cell_type": "code",
   "execution_count": null,
   "metadata": {},
   "outputs": [],
   "source": [
    "len(filepaths)"
   ]
  },
  {
   "cell_type": "code",
   "execution_count": null,
   "metadata": {},
   "outputs": [],
   "source": []
  },
  {
   "cell_type": "code",
   "execution_count": null,
   "metadata": {},
   "outputs": [],
   "source": []
  },
  {
   "cell_type": "code",
   "execution_count": 3,
   "metadata": {},
   "outputs": [],
   "source": [
    "u, v = iris.load_cube(filepaths[:60]), iris.load_cube(filepaths[60:])\n",
    "for cube in (u, v):\n",
    "    for name in ('forecast_reference_time', 'forecast_period'):\n",
    "        cube.remove_coord(name)"
   ]
  },
  {
   "cell_type": "code",
   "execution_count": 4,
   "metadata": {},
   "outputs": [],
   "source": [
    "# Alternative:\n",
    "u = iris.load_cube(filepaths)\n",
    "v = u.copy()"
   ]
  },
  {
   "cell_type": "code",
   "execution_count": 5,
   "metadata": {},
   "outputs": [
    {
     "name": "stdout",
     "output_type": "stream",
     "text": [
      "wind_speed / (m.s-1)                (time: 120; latitude: 215; longitude: 360)\n",
      "     Dimension coordinates:\n",
      "          time                           x              -               -\n",
      "          latitude                       -              x               -\n",
      "          longitude                      -              -               x\n",
      "     Auxiliary coordinates:\n",
      "          forecast_period                x              -               -\n",
      "     Scalar coordinates:\n",
      "          forecast_reference_time: 1859-09-01 00:00:00\n",
      "\n",
      "cube_windspeed.has_lazy_data() =  True\n"
     ]
    }
   ],
   "source": [
    "        \n",
    "u.coord('time').bounds = None\n",
    "v.coord('time').bounds = None\n",
    "v.coord('time').points = u.coord('time').points\n",
    "v.rename('eastward_sea_ice_velocity')\n",
    "#print u\n",
    "#print\n",
    "#print v\n",
    "cube_windspeed = (u*u + v*v) ** 0.5\n",
    "cube_windspeed.rename('wind_speed')\n",
    "\n",
    "print cube_windspeed\n",
    "print\n",
    "print 'cube_windspeed.has_lazy_data() = ', cube_windspeed.has_lazy_data()"
   ]
  },
  {
   "cell_type": "code",
   "execution_count": null,
   "metadata": {},
   "outputs": [],
   "source": [
    "spds = cube_windspeed.copy().data\n",
    "print {name: getattr(np, name)(spds) for name in ('min', 'max', 'mean', 'std')}"
   ]
  },
  {
   "cell_type": "code",
   "execution_count": null,
   "metadata": {},
   "outputs": [],
   "source": []
  },
  {
   "cell_type": "code",
   "execution_count": 6,
   "metadata": {},
   "outputs": [
    {
     "name": "stdout",
     "output_type": "stream",
     "text": [
      "wind_direction / (m.s-1)            (time: 120; latitude: 215; longitude: 360)\n",
      "     Dimension coordinates:\n",
      "          time                           x              -               -\n",
      "          latitude                       -              x               -\n",
      "          longitude                      -              -               x\n",
      "     Auxiliary coordinates:\n",
      "          forecast_period                x              -               -\n",
      "     Scalar coordinates:\n",
      "          forecast_reference_time: 1859-09-01 00:00:00\n",
      "\n",
      "cube_winddir.has_lazy_data() =  True\n"
     ]
    }
   ],
   "source": [
    "cube_winddir = cube_windspeed.copy()\n",
    "cube_winddir.rename('wind_direction')\n",
    "cube_winddir.unit = 'degrees'\n",
    "cube_winddir.data = da.rad2deg(da.arctan2(u.lazy_data(), v.lazy_data()))\n",
    "\n",
    "print cube_winddir\n",
    "print\n",
    "print 'cube_winddir.has_lazy_data() = ', cube_winddir.has_lazy_data()"
   ]
  },
  {
   "cell_type": "code",
   "execution_count": null,
   "metadata": {},
   "outputs": [],
   "source": [
    "angs = cube_winddir.copy().data\n",
    "print {name: getattr(np, name)(angs) for name in ('min', 'max', 'mean', 'std')}"
   ]
  },
  {
   "cell_type": "code",
   "execution_count": null,
   "metadata": {},
   "outputs": [],
   "source": []
  },
  {
   "cell_type": "code",
   "execution_count": 7,
   "metadata": {},
   "outputs": [
    {
     "name": "stderr",
     "output_type": "stream",
     "text": [
      "/home/h05/itpp/git/iris/iris_main/lib/iris/cube.py:3158: UserWarning: Collapsing spatial coordinate 'latitude' without weighting\n",
      "  warnings.warn(msg.format(coord.name()))\n",
      "/home/h05/itpp/git/iris/iris_main/lib/iris/coords.py:1209: UserWarning: Collapsing a non-contiguous coordinate. Metadata may not be fully descriptive for 'longitude'.\n",
      "  warnings.warn(msg.format(self.name()))\n"
     ]
    }
   ],
   "source": [
    "cube_mean_windspeed = cube_windspeed.collapsed(('latitude', 'longitude'), iris.analysis.MEAN)\n",
    "cube_stdev_windspeed = cube_windspeed.collapsed(('latitude', 'longitude'), iris.analysis.STD_DEV)\n",
    "cube_mean_ang = cube_winddir.collapsed(('latitude', 'longitude'), iris.analysis.MEAN)\n",
    "cube_stdev_ang = cube_winddir.collapsed(('latitude', 'longitude'), iris.analysis.STD_DEV)\n"
   ]
  },
  {
   "cell_type": "code",
   "execution_count": 8,
   "metadata": {},
   "outputs": [
    {
     "name": "stdout",
     "output_type": "stream",
     "text": [
      "1 loop, best of 3: 441 ms per loop\n"
     ]
    }
   ],
   "source": [
    "%%timeit\n",
    "cube_mean_windspeed.copy().data"
   ]
  },
  {
   "cell_type": "code",
   "execution_count": 9,
   "metadata": {},
   "outputs": [
    {
     "name": "stdout",
     "output_type": "stream",
     "text": [
      "1 loop, best of 3: 521 ms per loop\n"
     ]
    }
   ],
   "source": [
    "%%timeit\n",
    "cube_stdev_windspeed.copy().data"
   ]
  },
  {
   "cell_type": "code",
   "execution_count": 10,
   "metadata": {},
   "outputs": [
    {
     "name": "stdout",
     "output_type": "stream",
     "text": [
      "1 loop, best of 3: 384 ms per loop\n"
     ]
    }
   ],
   "source": [
    "%%timeit\n",
    "cube_mean_ang.copy().data"
   ]
  },
  {
   "cell_type": "code",
   "execution_count": 11,
   "metadata": {},
   "outputs": [
    {
     "name": "stdout",
     "output_type": "stream",
     "text": [
      "1 loop, best of 3: 436 ms per loop\n"
     ]
    }
   ],
   "source": [
    "%%timeit\n",
    "cube_stdev_ang.copy().data"
   ]
  },
  {
   "cell_type": "code",
   "execution_count": 12,
   "metadata": {},
   "outputs": [
    {
     "name": "stdout",
     "output_type": "stream",
     "text": [
      "1 loop, best of 3: 1.3 s per loop\n"
     ]
    }
   ],
   "source": [
    "%%timeit\n",
    "da.compute(cube_mean_windspeed.core_data(), cube_stdev_windspeed.core_data(), cube_mean_ang.core_data(), cube_stdev_ang.core_data())"
   ]
  },
  {
   "cell_type": "code",
   "execution_count": null,
   "metadata": {},
   "outputs": [],
   "source": [
    "import datetime\n",
    "def timeop(op):\n",
    "    t0 = datetime.datetime.now()\n",
    "    op()\n",
    "    t1 = datetime.datetime.now()\n",
    "    return (t1 - t0).total_seconds()\n",
    "\n",
    "stats_cubes = [cube_mean_windspeed, cube_stdev_windspeed, cube_mean_ang, cube_stdev_ang]\n",
    "assert all([cube.has_lazy_data() for cube in stats_cubes])\n",
    "time_total = 0.0\n",
    "for cube in stats_cubes:\n",
    "    time = timeop(lambda: cube.copy().data)\n",
    "    print 'Fetch {} = {:0.2f}'.format(cube.name().rjust(30), time)\n",
    "    time_total += time\n",
    "\n",
    "print 'Total individual fetch+calculate times        = {:0.2f}'.format(time_total)\n",
    "time_combined = timeop(lambda: da.compute(*[cube.lazy_data() for cube in stats_cubes]))\n",
    "percent_speedup = 100.0*(1.0 - time_combined / time_total)\n",
    "print 'Combine-all-together fetch+calculate times    = {:0.2f}'.format(time_combined)\n",
    "print '  --> speedup ~{:02.0f}%'.format(percent_speedup)\n"
   ]
  },
  {
   "cell_type": "code",
   "execution_count": null,
   "metadata": {},
   "outputs": [],
   "source": []
  },
  {
   "cell_type": "code",
   "execution_count": null,
   "metadata": {},
   "outputs": [],
   "source": []
  },
  {
   "cell_type": "code",
   "execution_count": null,
   "metadata": {},
   "outputs": [],
   "source": [
    "\n",
    "test_zonal_average"
   ]
  },
  {
   "cell_type": "code",
   "execution_count": null,
   "metadata": {},
   "outputs": [],
   "source": [
    "for cube in (cube_mean_windspeed, cube_mean_ang):\n",
    "    print cube.has_lazy_data()"
   ]
  },
  {
   "cell_type": "code",
   "execution_count": null,
   "metadata": {},
   "outputs": [],
   "source": [
    "cube_mean_windspeed.lazy_data().visualize()"
   ]
  },
  {
   "cell_type": "code",
   "execution_count": null,
   "metadata": {},
   "outputs": [],
   "source": []
  }
 ],
 "metadata": {
  "kernelspec": {
   "display_name": "Python 2",
   "language": "python",
   "name": "python2"
  },
  "language_info": {
   "codemirror_mode": {
    "name": "ipython",
    "version": 2
   },
   "file_extension": ".py",
   "mimetype": "text/x-python",
   "name": "python",
   "nbconvert_exporter": "python",
   "pygments_lexer": "ipython2",
   "version": "2.7.14"
  }
 },
 "nbformat": 4,
 "nbformat_minor": 2
}
