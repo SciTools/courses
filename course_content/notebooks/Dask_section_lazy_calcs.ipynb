{
 "cells": [
  {
   "cell_type": "markdown",
   "metadata": {},
   "source": [
    "## Efficient calculations with Dask\n",
    "\n",
    "Inside cubes, Iris already supports lazy data.\n",
    "operations in various statistical functions and cube arithmetic.\n"
   ]
  },
  {
   "cell_type": "code",
   "execution_count": null,
   "metadata": {},
   "outputs": [],
   "source": [
    "# basic winds code (NOT FUNCTIONAL)\n",
    "mean direction, mean + std-dev of windspeedwind_speed = (u*u + v*v) ** 0.5\n",
    "time_mean_windspd = wind_speed.collapsed('time', iris.analysis.MEAN)\n",
    "time_stdev_windspd = wind_speed.collapsed('time', iris.analysis.STD_DEV)\n",
    "wind_dirs = u.copy()\n",
    "wind_dirs.rename('wind_direction')\n",
    "wind_dirs.data = da.atan2(u.lazy_data(), v.lazy_data())\n",
    "wind_dirs.units = 'radians'\n",
    "time_mean_wind_dirs = wind_dirs.collapsed('time', iris.analysis.MEAN)"
   ]
  },
  {
   "cell_type": "code",
   "execution_count": null,
   "metadata": {},
   "outputs": [],
   "source": [
    "# basic winds code (NOT FUNCTIONAL)"
   ]
  },
  {
   "cell_type": "code",
   "execution_count": 14,
   "metadata": {},
   "outputs": [],
   "source": [
    "import iris\n",
    "from iris import sample_data_path\n",
    "import glob"
   ]
  },
  {
   "cell_type": "code",
   "execution_count": 15,
   "metadata": {},
   "outputs": [
    {
     "data": {
      "text/plain": [
       "'/home/h05/itpp/git/iris-test-data/test_data/'"
      ]
     },
     "execution_count": 15,
     "metadata": {},
     "output_type": "execute_result"
    }
   ],
   "source": []
  },
  {
   "cell_type": "code",
   "execution_count": 89,
   "metadata": {},
   "outputs": [
    {
     "name": "stdout",
     "output_type": "stream",
     "text": [
      "/home/h05/itpp/git/iris-sample-data/iris_sample_data/sample_data/UM/northward_sea_ice_velocity.1890.01.01.00.00.pp\n"
     ]
    }
   ],
   "source": [
    "filepaths = glob.glob(sample_data_path('UM', '*.pp'))\n",
    "filepath = filepaths[0]\n",
    "print filepath"
   ]
  },
  {
   "cell_type": "code",
   "execution_count": 27,
   "metadata": {},
   "outputs": [
    {
     "name": "stdout",
     "output_type": "stream",
     "text": [
      "northward_sea_ice_velocity / (m s-1) (latitude: 215; longitude: 360)\n",
      "     Dimension coordinates:\n",
      "          latitude                            x               -\n",
      "          longitude                           -               x\n",
      "     Scalar coordinates:\n",
      "          forecast_period: 262440.0 hours, bound=(262080.0, 262800.0) hours\n",
      "          forecast_reference_time: 1859-09-01 00:00:00\n",
      "          time: 1890-01-16 00:00:00, bound=(1890-01-01 00:00:00, 1890-02-01 00:00:00)\n",
      "     Attributes:\n",
      "          STASH: m02s00i149\n",
      "          source: Data from Met Office Unified Model\n",
      "          um_version: 6.6\n",
      "     Cell methods:\n",
      "          mean: time (1 hour)\n"
     ]
    }
   ],
   "source": [
    "cube = iris.load_cube(filepath)\n",
    "print cube"
   ]
  },
  {
   "cell_type": "code",
   "execution_count": 28,
   "metadata": {},
   "outputs": [
    {
     "name": "stdout",
     "output_type": "stream",
     "text": [
      "True\n"
     ]
    }
   ],
   "source": [
    "print cube.has_lazy_data()"
   ]
  },
  {
   "cell_type": "code",
   "execution_count": 29,
   "metadata": {},
   "outputs": [
    {
     "name": "stdout",
     "output_type": "stream",
     "text": [
      "<class 'dask.array.core.Array'>\n"
     ]
    }
   ],
   "source": [
    "print type(cube.core_data())"
   ]
  },
  {
   "cell_type": "code",
   "execution_count": null,
   "metadata": {},
   "outputs": [],
   "source": []
  },
  {
   "cell_type": "code",
   "execution_count": 50,
   "metadata": {},
   "outputs": [],
   "source": [
    "# Define an wrapper to show us when the actual data is fetched.\n",
    "import dask\n",
    "import dask.array as da\n",
    "\n",
    "class Arraylike_AccessFlagged(object):\n",
    "    def __init__(self, array, name='A'):\n",
    "        self.dtype = array.dtype\n",
    "        self.shape = array.shape\n",
    "        self._array = array\n",
    "        self._name = name\n",
    "\n",
    "    def __getitem__(self, keys):\n",
    "        print \"\\nArray fetch {}[{}]\".format(self._name, keys)\n",
    "        return self._array[keys]\n",
    "\n",
    "def showaccess_lazy(data, chunks=None):\n",
    "    if chunks is None:\n",
    "        chunks = data.shape\n",
    "    return da.from_array(Arraylike_AccessFlagged(data), chunks)"
   ]
  },
  {
   "cell_type": "code",
   "execution_count": 51,
   "metadata": {},
   "outputs": [
    {
     "name": "stdout",
     "output_type": "stream",
     "text": [
      "dask.array<array, shape=(2, 4), dtype=float64, chunksize=(1, 4)>\n"
     ]
    }
   ],
   "source": [
    "import numpy as np\n",
    "real_test_data = np.arange(8.).reshape((2, 4))\n",
    "test_lazy_data = showaccess_lazy(real_test_data, chunks=(1, 4))\n",
    "print test_lazy_data"
   ]
  },
  {
   "cell_type": "code",
   "execution_count": 52,
   "metadata": {},
   "outputs": [
    {
     "name": "stdout",
     "output_type": "stream",
     "text": [
      "\n",
      "Array fetch A[(slice(0, 1, None), slice(0, 4, None))]\n",
      "\n",
      "Array fetch A[(slice(1, 2, None), slice(0, 4, None))]\n"
     ]
    },
    {
     "data": {
      "text/plain": [
       "array([[ 0.,  1.,  2.,  3.],\n",
       "       [ 4.,  5.,  6.,  7.]])"
      ]
     },
     "execution_count": 52,
     "metadata": {},
     "output_type": "execute_result"
    }
   ],
   "source": [
    "# This just shows us when data fetches occur.\n",
    "test_lazy_data.compute()"
   ]
  },
  {
   "cell_type": "code",
   "execution_count": null,
   "metadata": {},
   "outputs": [],
   "source": []
  },
  {
   "cell_type": "code",
   "execution_count": 61,
   "metadata": {},
   "outputs": [],
   "source": [
    "# Now make a cube, derive a statistical calculation, and show what happens when we compute results.\n",
    "test_cube = cube.copy(data=showaccess_lazy(cube.data, chunks=(1, 360)))\n"
   ]
  },
  {
   "cell_type": "code",
   "execution_count": 62,
   "metadata": {},
   "outputs": [
    {
     "data": {
      "text/plain": [
       "<iris 'Cube' of northward_sea_ice_velocity / (m s-1) (latitude: 215; longitude: 360)>"
      ]
     },
     "execution_count": 62,
     "metadata": {},
     "output_type": "execute_result"
    }
   ],
   "source": [
    "test_cube"
   ]
  },
  {
   "cell_type": "code",
   "execution_count": 63,
   "metadata": {},
   "outputs": [
    {
     "name": "stdout",
     "output_type": "stream",
     "text": [
      "northward_sea_ice_velocity / (m s-1) (latitude: 215; longitude: 360)\n",
      "     Dimension coordinates:\n",
      "          latitude                            x               -\n",
      "          longitude                           -               x\n",
      "     Scalar coordinates:\n",
      "          forecast_period: 262440.0 hours, bound=(262080.0, 262800.0) hours\n",
      "          forecast_reference_time: 1859-09-01 00:00:00\n",
      "          time: 1890-01-16 00:00:00, bound=(1890-01-01 00:00:00, 1890-02-01 00:00:00)\n",
      "     Attributes:\n",
      "          STASH: m02s00i149\n",
      "          source: Data from Met Office Unified Model\n",
      "          um_version: 6.6\n",
      "     Cell methods:\n",
      "          mean: time (1 hour)\n"
     ]
    }
   ],
   "source": [
    "print test_cube"
   ]
  },
  {
   "cell_type": "code",
   "execution_count": 64,
   "metadata": {},
   "outputs": [
    {
     "name": "stdout",
     "output_type": "stream",
     "text": [
      "\n",
      "Array fetch A[(slice(0, 1, None), slice(0, 360, None))]\n",
      "Array fetch A[(slice(1, 2, None), slice(0, 360, None))]\n",
      "\n",
      "\n",
      "Array fetch A[(slice(2, 3, None), slice(0, 360, None))]\n",
      "Array fetch A[(slice(3, 4, None), slice(0, 360, None))]\n",
      "\n",
      "\n",
      "Array fetch A[(slice(4, 5, None), slice(0, 360, None))]\n",
      "Array fetch A[(slice(5, 6, None), slice(0, 360, None))]\n",
      "Array fetch A[(slice(6, 7, None), slice(0, 360, None))]\n",
      "\n",
      " \n",
      "\n",
      "Array fetch A[(slice(7, 8, None), slice(0, 360, None))]\n",
      " \n",
      "Array fetch A[(slice(8, 9, None), slice(0, 360, None))]\n",
      "\n",
      "Array fetch A[(slice(9, 10, None), slice(0, 360, None))]\n",
      "\n",
      "Array fetch A[(slice(10, 11, None), slice(0, 360, None))]\n",
      "Array fetch A[(slice(11, 12, None), slice(0, 360, None))]\n",
      "\n",
      "\n",
      "Array fetch A[(slice(12, 13, None), slice(0, 360, None))]\n",
      "\n",
      "Array fetch A[(slice(13, 14, None), slice(0, 360, None))]\n",
      "Array fetch A[(slice(14, 15, None), slice(0, 360, None))]\n",
      "\n",
      " \n",
      "Array fetch A[(slice(15, 16, None), slice(0, 360, None))]\n",
      " \n",
      "Array fetch A[(slice(16, 17, None), slice(0, 360, None))]\n",
      " \n",
      "Array fetch A[(slice(18, 19, None), slice(0, 360, None))]\n",
      "Array fetch A[(slice(17, 18, None), slice(0, 360, None))]\n",
      "\n",
      "\n",
      "Array fetch A[(slice(19, 20, None), slice(0, 360, None))]\n",
      "\n",
      "Array fetch A[(slice(20, 21, None), slice(0, 360, None))]\n",
      "\n",
      "Array fetch A[(slice(21, 22, None), slice(0, 360, None))]\n",
      "\n",
      "Array fetch A[(slice(22, 23, None), slice(0, 360, None))]\n",
      "\n",
      "Array fetch A[(slice(23, 24, None), slice(0, 360, None))]\n",
      "\n",
      "Array fetch A[(slice(24, 25, None), slice(0, 360, None))]\n",
      "\n",
      "Array fetch A[(slice(25, 26, None), slice(0, 360, None))]\n",
      "\n",
      "Array fetch A[(slice(26, 27, None), slice(0, 360, None))]\n",
      "\n",
      "Array fetch A[(slice(27, 28, None), slice(0, 360, None))]\n",
      " \n",
      "Array fetch A[(slice(28, 29, None), slice(0, 360, None))]\n",
      " \n",
      "Array fetch A[(slice(29, 30, None), slice(0, 360, None))]\n",
      "\n",
      "Array fetch A[(slice(30, 31, None), slice(0, 360, None))]\n",
      "\n",
      "Array fetch A[(slice(31, 32, None), slice(0, 360, None))]\n",
      "Array fetch A[(slice(32, 33, None), slice(0, 360, None))]\n",
      "\n",
      "\n",
      "Array fetch A[(slice(33, 34, None), slice(0, 360, None))]\n",
      "\n",
      "Array fetch A[(slice(34, 35, None), slice(0, 360, None))]\n",
      "\n",
      "Array fetch A[(slice(35, 36, None), slice(0, 360, None))]\n",
      "\n",
      "Array fetch A[(slice(36, 37, None), slice(0, 360, None))]\n",
      "\n",
      "Array fetch A[(slice(37, 38, None), slice(0, 360, None))]\n",
      " \n",
      "Array fetch A[(slice(38, 39, None), slice(0, 360, None))]\n",
      "Array fetch A[(slice(39, 40, None), slice(0, 360, None))]\n",
      "\n",
      "\n",
      "Array fetch A[(slice(41, 42, None), slice(0, 360, None))]\n",
      "\n",
      "Array fetch A[(slice(40, 41, None), slice(0, 360, None))]\n",
      "Array fetch A[(slice(42, 43, None), slice(0, 360, None))]\n",
      "\n",
      "\n",
      "Array fetch A[(slice(43, 44, None), slice(0, 360, None))]\n",
      "Array fetch A[(slice(44, 45, None), slice(0, 360, None))]\n",
      "\n",
      "\n",
      "Array fetch A[(slice(45, 46, None), slice(0, 360, None))]\n",
      "\n",
      "Array fetch A[(slice(46, 47, None), slice(0, 360, None))]\n",
      "\n",
      "Array fetch A[(slice(47, 48, None), slice(0, 360, None))]\n",
      " \n",
      "Array fetch A[(slice(48, 49, None), slice(0, 360, None))]\n",
      "Array fetch A[(slice(49, 50, None), slice(0, 360, None))]\n",
      "Array fetch A[(slice(50, 51, None), slice(0, 360, None))]\n",
      "\n",
      "\n",
      "Array fetch A[(slice(51, 52, None), slice(0, 360, None))]\n",
      "\n",
      "\n",
      "Array fetch A[(slice(52, 53, None), slice(0, 360, None))]\n",
      "\n",
      "Array fetch A[(slice(53, 54, None), slice(0, 360, None))]\n",
      "Array fetch A[(slice(54, 55, None), slice(0, 360, None))]\n",
      "Array fetch A[(slice(55, 56, None), slice(0, 360, None))]\n",
      "\n",
      "\n",
      "Array fetch A[(slice(56, 57, None), slice(0, 360, None))]\n",
      "Array fetch A[(slice(57, 58, None), slice(0, 360, None))]\n",
      "\n",
      " \n",
      "\n",
      "Array fetch A[(slice(58, 59, None), slice(0, 360, None))]\n",
      "\n",
      "Array fetch A[(slice(59, 60, None), slice(0, 360, None))]\n",
      "Array fetch A[(slice(60, 61, None), slice(0, 360, None))]\n",
      "\n",
      "\n",
      "Array fetch A[(slice(61, 62, None), slice(0, 360, None))]\n",
      "\n",
      "Array fetch A[(slice(62, 63, None), slice(0, 360, None))]\n",
      "Array fetch A[(slice(63, 64, None), slice(0, 360, None))]\n",
      "Array fetch A[(slice(64, 65, None), slice(0, 360, None))]\n",
      "Array fetch A[(slice(65, 66, None), slice(0, 360, None))]\n",
      "\n",
      "\n",
      " \n",
      "Array fetch A[(slice(66, 67, None), slice(0, 360, None))]\n",
      "\n",
      "\n",
      "Array fetch A[(slice(67, 68, None), slice(0, 360, None))]\n",
      "\n",
      "Array fetch A[(slice(68, 69, None), slice(0, 360, None))]\n",
      "\n",
      "Array fetch A[(slice(69, 70, None), slice(0, 360, None))]\n",
      "\n",
      "Array fetch A[(slice(70, 71, None), slice(0, 360, None))]\n",
      "\n",
      "Array fetch A[(slice(71, 72, None), slice(0, 360, None))]\n",
      " \n",
      "Array fetch A[(slice(73, 74, None), slice(0, 360, None))]\n",
      "\n",
      "Array fetch A[(slice(72, 73, None), slice(0, 360, None))]\n",
      "\n",
      "Array fetch A[(slice(74, 75, None), slice(0, 360, None))]\n",
      "\n",
      "Array fetch A[(slice(75, 76, None), slice(0, 360, None))]\n",
      "\n",
      "Array fetch A[(slice(76, 77, None), slice(0, 360, None))]\n",
      " \n",
      "Array fetch A[(slice(77, 78, None), slice(0, 360, None))]\n",
      "Array fetch A[(slice(80, 81, None), slice(0, 360, None))]\n",
      "Array fetch A[(slice(81, 82, None), slice(0, 360, None))]\n",
      "Array fetch A[(slice(78, 79, None), slice(0, 360, None))]\n",
      "\n",
      "\n",
      "\n",
      " \n",
      "Array fetch A[(slice(79, 80, None), slice(0, 360, None))]\n",
      " \n",
      "Array fetch A[(slice(83, 84, None), slice(0, 360, None))]\n",
      "\n",
      "Array fetch A[(slice(82, 83, None), slice(0, 360, None))]\n",
      "\n",
      "Array fetch A[(slice(84, 85, None), slice(0, 360, None))]\n",
      " \n",
      "Array fetch A[(slice(85, 86, None), slice(0, 360, None))]\n",
      "\n",
      "Array fetch A[(slice(86, 87, None), slice(0, 360, None))]\n",
      "Array fetch A[(slice(87, 88, None), slice(0, 360, None))]\n",
      "\n",
      "\n",
      "Array fetch A[(slice(88, 89, None), slice(0, 360, None))]\n",
      "\n",
      "Array fetch A[(slice(89, 90, None), slice(0, 360, None))]\n",
      "\n",
      "Array fetch A[(slice(90, 91, None), slice(0, 360, None))]\n",
      "\n",
      "Array fetch A[(slice(91, 92, None), slice(0, 360, None))]\n",
      "\n",
      "Array fetch A[(slice(92, 93, None), slice(0, 360, None))]\n",
      "Array fetch A[(slice(93, 94, None), slice(0, 360, None))]\n",
      " \n",
      "\n",
      "Array fetch A[(slice(95, 96, None), slice(0, 360, None))]\n",
      "Array fetch A[(slice(96, 97, None), slice(0, 360, None))]\n",
      "\n",
      "\n",
      "Array fetch A[(slice(94, 95, None), slice(0, 360, None))]\n",
      "Array fetch A[(slice(97, 98, None), slice(0, 360, None))]\n",
      "\n",
      " \n",
      "Array fetch A[(slice(98, 99, None), slice(0, 360, None))]\n",
      "Array fetch A[(slice(99, 100, None), slice(0, 360, None))]\n",
      "\n",
      "\n",
      "Array fetch A[(slice(100, 101, None), slice(0, 360, None))]\n",
      " \n",
      "Array fetch A[(slice(101, 102, None), slice(0, 360, None))]\n",
      "Array fetch A[(slice(102, 103, None), slice(0, 360, None))]\n",
      " \n",
      "\n",
      "Array fetch A[(slice(103, 104, None), slice(0, 360, None))]\n",
      "\n",
      "Array fetch A[(slice(104, 105, None), slice(0, 360, None))]\n",
      " \n",
      "Array fetch A[(slice(105, 106, None), slice(0, 360, None))]\n",
      "\n",
      "Array fetch A[(slice(106, 107, None), slice(0, 360, None))]\n",
      "Array fetch A[(slice(107, 108, None), slice(0, 360, None))]\n",
      "\n",
      "Array fetch A[(slice(108, 109, None), slice(0, 360, None))]\n",
      "\n",
      "\n",
      "Array fetch A[(slice(109, 110, None), slice(0, 360, None))]\n",
      "Array fetch A[(slice(110, 111, None), slice(0, 360, None))]\n",
      "\n",
      "\n",
      "Array fetch A[(slice(111, 112, None), slice(0, 360, None))]\n",
      " \n",
      "Array fetch A[(slice(112, 113, None), slice(0, 360, None))]\n",
      "\n",
      "Array fetch A[(slice(113, 114, None), slice(0, 360, None))]\n",
      "Array fetch A[(slice(114, 115, None), slice(0, 360, None))]\n",
      " \n",
      "\n",
      "Array fetch A[(slice(115, 116, None), slice(0, 360, None))]\n",
      "\n",
      "Array fetch A[(slice(116, 117, None), slice(0, 360, None))]\n",
      "\n",
      "Array fetch A[(slice(117, 118, None), slice(0, 360, None))]\n",
      "Array fetch A[(slice(118, 119, None), slice(0, 360, None))]\n",
      "\n",
      " \n",
      "Array fetch A[(slice(119, 120, None), slice(0, 360, None))]\n",
      "\n",
      "Array fetch A[(slice(120, 121, None), slice(0, 360, None))]\n",
      "Array fetch A[(slice(121, 122, None), slice(0, 360, None))]\n",
      "\n",
      "Array fetch A[(slice(122, 123, None), slice(0, 360, None))]\n",
      "\n",
      "Array fetch A[(slice(123, 124, None), slice(0, 360, None))]\n",
      " \n",
      "\n",
      "Array fetch A[(slice(124, 125, None), slice(0, 360, None))] \n",
      "\n",
      "Array fetch A[(slice(125, 126, None), slice(0, 360, None))]\n",
      "\n",
      "Array fetch A[(slice(126, 127, None), slice(0, 360, None))]\n",
      "\n",
      "Array fetch A[(slice(127, 128, None), slice(0, 360, None))]\n",
      "Array fetch A[(slice(128, 129, None), slice(0, 360, None))]\n",
      "Array fetch A[(slice(130, 131, None), slice(0, 360, None))]\n",
      "\n",
      "\n",
      "\n",
      "Array fetch A[(slice(131, 132, None), slice(0, 360, None))]\n",
      "Array fetch A[(slice(129, 130, None), slice(0, 360, None))]\n",
      "\n",
      " \n",
      "Array fetch A[(slice(132, 133, None), slice(0, 360, None))]\n",
      " \n",
      "Array fetch A[(slice(133, 134, None), slice(0, 360, None))]\n",
      "\n",
      "Array fetch A[(slice(134, 135, None), slice(0, 360, None))]\n",
      "\n",
      "Array fetch A[(slice(135, 136, None), slice(0, 360, None))]\n",
      "\n",
      "Array fetch A[(slice(136, 137, None), slice(0, 360, None))]\n",
      " \n",
      "Array fetch A[(slice(137, 138, None), slice(0, 360, None))]\n",
      "\n",
      "Array fetch A[(slice(138, 139, None), slice(0, 360, None))]\n",
      "\n",
      "Array fetch A[(slice(139, 140, None), slice(0, 360, None))]\n",
      "Array fetch A[(slice(140, 141, None), slice(0, 360, None))]\n",
      " \n",
      "Array fetch A[(slice(141, 142, None), slice(0, 360, None))]\n",
      "Array fetch A[(slice(142, 143, None), slice(0, 360, None))]\n",
      "\n",
      "\n",
      "\n",
      "Array fetch A[(slice(143, 144, None), slice(0, 360, None))]\n",
      "\n",
      "Array fetch A[(slice(144, 145, None), slice(0, 360, None))]\n",
      " \n",
      "Array fetch A[(slice(145, 146, None), slice(0, 360, None))]\n",
      "\n",
      "Array fetch A[(slice(146, 147, None), slice(0, 360, None))]\n",
      "\n",
      "Array fetch A[(slice(147, 148, None), slice(0, 360, None))]\n",
      "Array fetch A[(slice(148, 149, None), slice(0, 360, None))]\n",
      "\n",
      "Array fetch A[(slice(149, 150, None), slice(0, 360, None))]\n",
      "\n",
      "\n",
      "Array fetch A[(slice(150, 151, None), slice(0, 360, None))]\n",
      "\n",
      "Array fetch A[(slice(151, 152, None), slice(0, 360, None))]\n",
      "Array fetch A[(slice(152, 153, None), slice(0, 360, None))]\n",
      "\n",
      " \n",
      "Array fetch A[(slice(153, 154, None), slice(0, 360, None))]\n",
      " \n",
      "Array fetch A[(slice(154, 155, None), slice(0, 360, None))]\n",
      "\n",
      "Array fetch A[(slice(155, 156, None), slice(0, 360, None))]\n",
      "\n",
      "Array fetch A[(slice(156, 157, None), slice(0, 360, None))]\n",
      " \n",
      "Array fetch A[(slice(157, 158, None), slice(0, 360, None))]\n",
      "\n",
      "Array fetch A[(slice(158, 159, None), slice(0, 360, None))]\n",
      " \n",
      "Array fetch A[(slice(159, 160, None), slice(0, 360, None))]\n",
      "\n",
      "Array fetch A[(slice(160, 161, None), slice(0, 360, None))]\n",
      "\n",
      "Array fetch A[(slice(161, 162, None), slice(0, 360, None))]\n",
      "\n",
      "Array fetch A[(slice(162, 163, None), slice(0, 360, None))]\n",
      "\n",
      "Array fetch A[(slice(163, 164, None), slice(0, 360, None))]\n",
      "\n",
      "Array fetch A[(slice(164, 165, None), slice(0, 360, None))]\n",
      " \n",
      "Array fetch A[(slice(166, 167, None), slice(0, 360, None))]\n",
      "\n",
      "Array fetch A[(slice(167, 168, None), slice(0, 360, None))]\n",
      "\n",
      "Array fetch A[(slice(168, 169, None), slice(0, 360, None))]\n",
      "Array fetch A[(slice(169, 170, None), slice(0, 360, None))]\n",
      "\n",
      "Array fetch A[(slice(165, 166, None), slice(0, 360, None))]\n",
      " \n",
      "Array fetch A[(slice(170, 171, None), slice(0, 360, None))]\n",
      "\n",
      "\n",
      "Array fetch A[(slice(171, 172, None), slice(0, 360, None))]\n",
      "\n",
      "Array fetch A[(slice(172, 173, None), slice(0, 360, None))]\n",
      "\n",
      "Array fetch A[(slice(173, 174, None), slice(0, 360, None))]\n",
      "\n",
      "Array fetch A[(slice(174, 175, None), slice(0, 360, None))]\n",
      "\n",
      "Array fetch A[(slice(176, 177, None), slice(0, 360, None))]\n",
      " \n",
      "Array fetch A[(slice(175, 176, None), slice(0, 360, None))]\n",
      "\n",
      "Array fetch A[(slice(177, 178, None), slice(0, 360, None))]\n",
      "\n",
      "Array fetch A[(slice(178, 179, None), slice(0, 360, None))]\n",
      "\n",
      "Array fetch A[(slice(179, 180, None), slice(0, 360, None))]\n",
      "\n",
      "Array fetch A[(slice(180, 181, None), slice(0, 360, None))]\n",
      "Array fetch A[(slice(181, 182, None), slice(0, 360, None))]\n",
      "\n",
      " \n",
      "Array fetch A[(slice(183, 184, None), slice(0, 360, None))]\n",
      "Array fetch A[(slice(184, 185, None), slice(0, 360, None))]\n",
      "\n",
      "Array fetch A[(slice(182, 183, None), slice(0, 360, None))] \n",
      "\n",
      "\n",
      "Array fetch A[(slice(186, 187, None), slice(0, 360, None))]\n",
      "Array fetch A[(slice(185, 186, None), slice(0, 360, None))]\n",
      "\n",
      "Array fetch A[(slice(187, 188, None), slice(0, 360, None))]\n",
      "\n",
      "\n",
      "Array fetch A[(slice(188, 189, None), slice(0, 360, None))]\n",
      " \n",
      "Array fetch A[(slice(189, 190, None), slice(0, 360, None))]\n",
      "\n",
      "Array fetch A[(slice(190, 191, None), slice(0, 360, None))]\n",
      "Array fetch A[(slice(191, 192, None), slice(0, 360, None))]\n",
      " \n",
      "\n",
      "Array fetch A[(slice(192, 193, None), slice(0, 360, None))]\n",
      "\n",
      "Array fetch A[(slice(193, 194, None), slice(0, 360, None))]\n",
      " \n",
      "Array fetch A[(slice(194, 195, None), slice(0, 360, None))]\n",
      " \n",
      "Array fetch A[(slice(195, 196, None), slice(0, 360, None))]\n",
      "\n",
      "Array fetch A[(slice(196, 197, None), slice(0, 360, None))]\n",
      " \n",
      "Array fetch A[(slice(198, 199, None), slice(0, 360, None))]\n",
      "Array fetch A[(slice(197, 198, None), slice(0, 360, None))]\n",
      "\n",
      " \n",
      "Array fetch A[(slice(200, 201, None), slice(0, 360, None))]\n",
      "Array fetch A[(slice(199, 200, None), slice(0, 360, None))]\n",
      "\n",
      "\n",
      "Array fetch A[(slice(201, 202, None), slice(0, 360, None))]\n",
      "Array fetch A[(slice(202, 203, None), slice(0, 360, None))]\n",
      "\n",
      "Array fetch A[(slice(203, 204, None), slice(0, 360, None))]\n",
      "\n",
      "\n",
      "Array fetch A[(slice(204, 205, None), slice(0, 360, None))]\n",
      "\n",
      "Array fetch A[(slice(205, 206, None), slice(0, 360, None))]\n",
      "Array fetch A[(slice(206, 207, None), slice(0, 360, None))]\n",
      "\n",
      "\n",
      "Array fetch A[(slice(207, 208, None), slice(0, 360, None))]\n",
      "\n",
      "Array fetch A[(slice(208, 209, None), slice(0, 360, None))]\n",
      "Array fetch A[(slice(209, 210, None), slice(0, 360, None))]\n",
      "Array fetch A[(slice(210, 211, None), slice(0, 360, None))]\n",
      "Array fetch A[(slice(211, 212, None), slice(0, 360, None))]\n",
      "Array fetch A[(slice(212, 213, None), slice(0, 360, None))]\n",
      "\n",
      " \n",
      "Array fetch A[(slice(213, 214, None), slice(0, 360, None))]\n",
      "\n",
      "\n",
      "\n",
      "\n",
      "Array fetch A[(slice(214, 215, None), slice(0, 360, None))]\n"
     ]
    },
    {
     "data": {
      "text/plain": [
       "array([[ 0.,  0.,  0.,  0.],\n",
       "       [ 0.,  0.,  0.,  0.]], dtype=float32)"
      ]
     },
     "execution_count": 64,
     "metadata": {},
     "output_type": "execute_result"
    }
   ],
   "source": [
    "test_cube.copy().data[:2, :4]"
   ]
  },
  {
   "cell_type": "code",
   "execution_count": 74,
   "metadata": {},
   "outputs": [],
   "source": [
    "test_zonal_average = test_cube.collapsed(['longitude'], iris.analysis.MEAN)"
   ]
  },
  {
   "cell_type": "code",
   "execution_count": 75,
   "metadata": {},
   "outputs": [
    {
     "name": "stdout",
     "output_type": "stream",
     "text": [
      "\n",
      "Array fetch A[(slice(0, 1, None), slice(0, 360, None))]\n",
      "\n",
      "Array fetch A[(slice(1, 2, None), slice(0, 360, None))]\n",
      "\n",
      "Array fetch A[(slice(2, 3, None), slice(0, 360, None))]\n"
     ]
    },
    {
     "data": {
      "text/plain": [
       "array([ 0.,  0.,  0.], dtype=float32)"
      ]
     },
     "execution_count": 75,
     "metadata": {},
     "output_type": "execute_result"
    }
   ],
   "source": [
    "test_zonal_average[:3].copy().data"
   ]
  },
  {
   "cell_type": "code",
   "execution_count": 76,
   "metadata": {},
   "outputs": [],
   "source": [
    "test_zonal_stdev = test_cube.collapsed(['longitude'], iris.analysis.STD_DEV)"
   ]
  },
  {
   "cell_type": "code",
   "execution_count": 77,
   "metadata": {},
   "outputs": [
    {
     "name": "stdout",
     "output_type": "stream",
     "text": [
      "\n",
      "Array fetch A[(slice(0, 1, None), slice(0, 360, None))]\n",
      " \n",
      "Array fetch A[(slice(1, 2, None), slice(0, 360, None))]\n"
     ]
    },
    {
     "data": {
      "text/plain": [
       "array([ 0.,  0.], dtype=float32)"
      ]
     },
     "execution_count": 77,
     "metadata": {},
     "output_type": "execute_result"
    }
   ],
   "source": [
    "test_zonal_stdev[:2].copy().data"
   ]
  },
  {
   "cell_type": "code",
   "execution_count": 78,
   "metadata": {},
   "outputs": [
    {
     "data": {
      "text/plain": [
       "True"
      ]
     },
     "execution_count": 78,
     "metadata": {},
     "output_type": "execute_result"
    }
   ],
   "source": [
    "test_cube.has_lazy_data()"
   ]
  },
  {
   "cell_type": "code",
   "execution_count": 90,
   "metadata": {},
   "outputs": [],
   "source": [
    "test_cube = iris.load_cube(filepaths)\n",
    "test_zonal_average = test_cube.collapsed(['longitude'], iris.analysis.MEAN)\n",
    "test_zonal_stdev = test_cube.collapsed(['longitude'], iris.analysis.STD_DEV)"
   ]
  },
  {
   "cell_type": "code",
   "execution_count": 91,
   "metadata": {},
   "outputs": [
    {
     "name": "stdout",
     "output_type": "stream",
     "text": [
      "1 loop, best of 3: 375 ms per loop\n"
     ]
    }
   ],
   "source": [
    "%%timeit\n",
    "av = test_zonal_average.copy().data"
   ]
  },
  {
   "cell_type": "code",
   "execution_count": 92,
   "metadata": {},
   "outputs": [
    {
     "name": "stdout",
     "output_type": "stream",
     "text": [
      "1 loop, best of 3: 445 ms per loop\n"
     ]
    }
   ],
   "source": [
    "%%timeit\n",
    "stdev = test_zonal_stdev.copy().data"
   ]
  },
  {
   "cell_type": "code",
   "execution_count": 93,
   "metadata": {},
   "outputs": [
    {
     "name": "stdout",
     "output_type": "stream",
     "text": [
      "1 loop, best of 3: 601 ms per loop\n"
     ]
    }
   ],
   "source": [
    "%%timeit\n",
    "av, stdev = da.compute(test_zonal_average.lazy_data(), test_zonal_stdev.lazy_data())"
   ]
  },
  {
   "cell_type": "code",
   "execution_count": null,
   "metadata": {},
   "outputs": [],
   "source": []
  },
  {
   "cell_type": "code",
   "execution_count": 133,
   "metadata": {},
   "outputs": [],
   "source": [
    "# BECAUSE\n",
    "test_cube = iris.load_cube(filepaths)\n",
    "test_cube = test_cube.copy(data=showaccess_lazy(test_cube.lazy_data(), chunks=test_cube.shape))\n",
    "test_zonal_average = test_cube.collapsed(['longitude'], iris.analysis.MEAN)\n",
    "test_zonal_stdev = test_cube.collapsed(['longitude'], iris.analysis.STD_DEV)"
   ]
  },
  {
   "cell_type": "code",
   "execution_count": 134,
   "metadata": {},
   "outputs": [
    {
     "name": "stdout",
     "output_type": "stream",
     "text": [
      "\n",
      "Array fetch A[(slice(0, 120, None), slice(0, 215, None), slice(0, 360, None))]\n",
      "[ 0.01491087  0.01489484  0.01378156]\n",
      "1 loop, best of 1: 307 ms per loop\n"
     ]
    }
   ],
   "source": [
    "%%timeit -n 1 -r 1\n",
    "av = test_zonal_average.copy().data\n",
    "print av[100, 20:23]"
   ]
  },
  {
   "cell_type": "code",
   "execution_count": 135,
   "metadata": {},
   "outputs": [
    {
     "name": "stdout",
     "output_type": "stream",
     "text": [
      "\n",
      "Array fetch A[(slice(0, 120, None), slice(0, 215, None), slice(0, 360, None))]\n",
      "[ 0.03805856  0.04456573  0.04579239]\n",
      "1 loop, best of 1: 449 ms per loop\n"
     ]
    }
   ],
   "source": [
    "%%timeit -n 1 -r 1\n",
    "stdev = test_zonal_stdev.copy().data\n",
    "print stdev[100, 20:23]"
   ]
  },
  {
   "cell_type": "code",
   "execution_count": 136,
   "metadata": {},
   "outputs": [
    {
     "name": "stdout",
     "output_type": "stream",
     "text": [
      "\n",
      "Array fetch A[(slice(0, 120, None), slice(0, 215, None), slice(0, 360, None))]\n",
      "[ 0.01491087  0.01489484  0.01378156]\n",
      "[ 0.03805856  0.04456573  0.04579239]\n",
      "1 loop, best of 1: 468 ms per loop\n"
     ]
    }
   ],
   "source": [
    "%%timeit -n 1 -r 1\n",
    "av, stdev = da.compute(test_zonal_average.lazy_data(), test_zonal_stdev.lazy_data())\n",
    "print av[100, 20:23]\n",
    "print stdev[100, 20:23]"
   ]
  },
  {
   "cell_type": "code",
   "execution_count": 130,
   "metadata": {},
   "outputs": [
    {
     "name": "stdout",
     "output_type": "stream",
     "text": [
      "\n",
      "Array fetch A[(slice(0, 120, None), slice(0, 215, None), slice(0, 360, None))]\n",
      "[0 0 0 0]\n",
      "[12 13 14 15]\n"
     ]
    }
   ],
   "source": []
  },
  {
   "cell_type": "code",
   "execution_count": 132,
   "metadata": {},
   "outputs": [
    {
     "data": {
      "text/plain": [
       "array([ 0.01491087,  0.01489484,  0.01378156], dtype=float32)"
      ]
     },
     "execution_count": 132,
     "metadata": {},
     "output_type": "execute_result"
    }
   ],
   "source": []
  },
  {
   "cell_type": "code",
   "execution_count": null,
   "metadata": {},
   "outputs": [],
   "source": []
  }
 ],
 "metadata": {
  "kernelspec": {
   "display_name": "Python 2",
   "language": "python",
   "name": "python2"
  },
  "language_info": {
   "codemirror_mode": {
    "name": "ipython",
    "version": 2
   },
   "file_extension": ".py",
   "mimetype": "text/x-python",
   "name": "python",
   "nbconvert_exporter": "python",
   "pygments_lexer": "ipython2",
   "version": "2.7.14"
  }
 },
 "nbformat": 4,
 "nbformat_minor": 2
}
