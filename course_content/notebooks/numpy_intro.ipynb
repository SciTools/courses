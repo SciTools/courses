{
 "cells": [
  {
   "cell_type": "markdown",
   "metadata": {
    "internals": {
     "slide_type": "subslide"
    },
    "slideshow": {
     "slide_type": "slide"
    }
   },
   "source": [
    "# A Workshop Introduction to NumPy\n",
    "\n",
    "The Python language is an excellent tool for general-purpose programming, with a highly readable syntax, rich and powerful data types (strings, lists, sets, dictionaries, arbitrary length integers, etc) and a very comprehensive standard library. It was not, however, designed specifically for mathematical and scientific computing. Neither the language nor its standard library have facilities for the efficient representation of multidimensional datasets, tools for linear algebra and general matrix manipulations (essential building blocks of virtually all scientific computing).\n",
    "\n",
    "For example, Python lists are very flexible containers that can be nested arbitrarily deep and can hold any Python object in them, but they are poorly suited to represent common mathematical constructs like vectors and matrices. It is for this reason that NumPy exists."
   ]
  },
  {
   "cell_type": "markdown",
   "metadata": {},
   "source": [
    "## Workshop Objectives\n",
    "\n",
    "The aims of this workshop are to enable you to:\n",
    "\n",
    "  - manipulate numerical arrays\n",
    "  - perform efficient array calculations"
   ]
  },
  {
   "cell_type": "markdown",
   "metadata": {
    "internals": {},
    "slideshow": {
     "slide_type": "-"
    }
   },
   "source": [
    "## Table of Contents\n",
    "\n",
    "* [Getting Started with Numpy](#getting-started)\n",
    "* [The Numpy Array](#array)\n",
    "* [Motivation: what are arrays good for?](#motivation)\n",
    "* [The Array Object](#array-object)\n",
    "* [Application: Calculations -- Arithmetic and Broadcasting](#arithmetic_and_broadcasting)\n",
    "* [Application: Calculations -- Statistics](#statistics)\n",
    "* [Application: Efficiency](#efficiency)\n",
    "* [Conclusions](#conclusions)"
   ]
  },
  {
   "cell_type": "markdown",
   "metadata": {},
   "source": [
    "## Style\n",
    "This workshop is a hands on coding workshop with discussion sections.  It can be treated as an exercise for an individual, but the intent is to work as a group with an instructor.\n",
    "\n",
    "Topics are introduced, followed by worked examples and exploration suggestions.  These should be attempted individually or in small groups (making sure everyone is keeping their own notes).\n",
    "Each topic concludes with a review and discussion session for the whole group.\n",
    "\n",
    "The Jupyter notebook provides each participant with an environment to run code and make notes.  We recommend that you take your own copy of the workshop notebook and customise it through the workshop.\n",
    "This should provide you with a useful resource to refer back to."
   ]
  },
  {
   "cell_type": "markdown",
   "metadata": {},
   "source": [
    "## Getting Started with NumPy <a class=\"anchor\" id=\"getting-started\"></a>\n",
    "NumPy is the fundamental package for scientific computing with Python. Its primary purpose is to provide a powerful N-dimensional array object; the focus for this workshop.\n",
    "\n",
    "To begin with let's import NumPy, check where it is being imported from and check the version."
   ]
  },
  {
   "cell_type": "code",
   "execution_count": 1,
   "metadata": {
    "collapsed": false
   },
   "outputs": [
    {
     "name": "stdout",
     "output_type": "stream",
     "text": [
      "<module 'numpy' from '/opt/scitools/environments/default/2017_02_21/lib/python2.7/site-packages/numpy/__init__.py'>\n",
      "1.11.1\n"
     ]
    }
   ],
   "source": [
    "# numpy is generally imported as 'np'\n",
    "import numpy as np\n",
    "print(np)\n",
    "print(np.__version__)"
   ]
  },
  {
   "cell_type": "markdown",
   "metadata": {},
   "source": [
    "### Documentation\n",
    "Here is a link to the NumPy documenetation for v1.11:\n",
    "https://docs.scipy.org/doc/numpy-1.11.0/reference/\n",
    "\n",
    "### Create an Array\n",
    "\n",
    "There are many ways to create a numpy array, such as:"
   ]
  },
  {
   "cell_type": "code",
   "execution_count": 2,
   "metadata": {
    "collapsed": true
   },
   "outputs": [],
   "source": [
    "anarray = np.array((2, 3, 5, 7, 11, 13, 17, 19, 23))"
   ]
  },
  {
   "cell_type": "markdown",
   "metadata": {},
   "source": [
    "### Experiment\n",
    "Use the code cells below to experiment with array creation.\n",
    "\n",
    "What can you find out about the arrays you have created?"
   ]
  },
  {
   "cell_type": "code",
   "execution_count": null,
   "metadata": {
    "collapsed": true
   },
   "outputs": [],
   "source": []
  },
  {
   "cell_type": "code",
   "execution_count": null,
   "metadata": {
    "collapsed": true
   },
   "outputs": [],
   "source": []
  },
  {
   "cell_type": "code",
   "execution_count": null,
   "metadata": {
    "collapsed": true
   },
   "outputs": [],
   "source": []
  },
  {
   "cell_type": "code",
   "execution_count": null,
   "metadata": {
    "collapsed": true
   },
   "outputs": [],
   "source": []
  },
  {
   "cell_type": "markdown",
   "metadata": {
    "internals": {},
    "slideshow": {
     "slide_type": "-"
    }
   },
   "source": [
    "## The NumPy Array <a class=\"anchor\" id=\"array\"></a>"
   ]
  },
  {
   "cell_type": "markdown",
   "metadata": {
    "internals": {},
    "slideshow": {
     "slide_type": "-"
    }
   },
   "source": [
    "## Motivation: what are arrays good for? <a class=\"anchor\" id=\"motivation\"></a>"
   ]
  },
  {
   "cell_type": "markdown",
   "metadata": {},
   "source": [
    "### Fast Calculations\n",
    "\n",
    "NumPy provides routines for fast operations on arrays, including mathematical, logical, shape manipulation, sorting, selecting, I/O, discrete Fourier transforms, basic linear algebra, basic statistical operations, random simulation and much more.\n",
    "\n",
    "It is a lot faster than Python alone for numerical computing tasks.\n",
    "\n",
    "Element-by-element operations are the “default mode” when an ndarray is involved, but the element-by-element operation is speedily executed by pre-compiled C code. "
   ]
  },
  {
   "cell_type": "markdown",
   "metadata": {},
   "source": [
    "### Clear Syntax\n",
    "\n",
    "In NumPy\n",
    "\n",
    "`c = a * b`\n",
    "\n",
    "calculates the element-wise product of `a` and `b`, at near-C speeds, but with the code simplicity we expect from something based on Python.\n",
    "\n",
    "This demonstrates a core feature of NumPy: 'vectorization'.  \n",
    "\n",
    "Loops iterating through elements of arrays are not required, which can make code easier to read, as well as performing fast calculations."
   ]
  },
  {
   "cell_type": "markdown",
   "metadata": {},
   "source": [
    "### Calculation with Broadcasting\n",
    "\n",
    "There are times when you need to perform calculations between NumPy arrays of different sizes.  For many cases, NumPy provides the means to achieve this effectively using 'broadcasting', where the shape of the input arrays differs, but the shape of the target array may be inferred, and is thus computed directly."
   ]
  },
  {
   "cell_type": "markdown",
   "metadata": {
    "internals": {},
    "slideshow": {
     "slide_type": "-"
    }
   },
   "source": [
    "## The Array Object <a class=\"anchor\" id=\"array-object\"></a>\n",
    "\n",
    "The multidimensional array object is the core of NumPy's power.  Let us explore this object some more."
   ]
  },
  {
   "cell_type": "markdown",
   "metadata": {},
   "source": [
    "### Array properties\n",
    "\n",
    "Let's create a NumPy array and take a look at some of its properties."
   ]
  },
  {
   "cell_type": "code",
   "execution_count": 2,
   "metadata": {
    "collapsed": false
   },
   "outputs": [
    {
     "name": "stdout",
     "output_type": "stream",
     "text": [
      "('Array shape:', (3, 2, 4))\n",
      "('Array element dtype:', dtype('float64'))\n"
     ]
    }
   ],
   "source": [
    "arr = np.ones((3, 2, 4))\n",
    "\n",
    "print(\"Array shape:\", arr.shape)\n",
    "print(\"Array element dtype:\", arr.dtype)"
   ]
  },
  {
   "cell_type": "markdown",
   "metadata": {},
   "source": [
    "See if you can also find out the array's:\n",
    "\n",
    "* number of dimensions,\n",
    "* number of elements, and\n",
    "* amount of memory used.\n",
    "\n",
    "Hint: you can use `help(object)` to look up the documentation on any object."
   ]
  },
  {
   "cell_type": "code",
   "execution_count": 2,
   "metadata": {
    "collapsed": false
   },
   "outputs": [],
   "source": []
  },
  {
   "cell_type": "markdown",
   "metadata": {},
   "source": [
    "Make some more arrays. Some different ways to create arrays can be found at https://docs.scipy.org/doc/numpy/user/basics.creation.html. What are the properties of your arrays?"
   ]
  },
  {
   "cell_type": "code",
   "execution_count": 2,
   "metadata": {
    "collapsed": false
   },
   "outputs": [],
   "source": []
  },
  {
   "cell_type": "markdown",
   "metadata": {},
   "source": [
    "What else can you find out about these arrays?"
   ]
  },
  {
   "cell_type": "code",
   "execution_count": 2,
   "metadata": {
    "collapsed": false
   },
   "outputs": [],
   "source": []
  },
  {
   "cell_type": "markdown",
   "metadata": {},
   "source": [
    "### Indexing\n",
    "\n",
    "You can index NumPy arrays in the same way as any other Python iterables, by using square brackets `[]`. This means we can index to retrieve a single element, multiple consecutive elements, or a more complex sequence:"
   ]
  },
  {
   "cell_type": "code",
   "execution_count": 3,
   "metadata": {
    "collapsed": false
   },
   "outputs": [
    {
     "name": "stdout",
     "output_type": "stream",
     "text": [
      "arr -- [1 2 3 4 5 6]\n",
      "arr[2] -- 3\n",
      "arr[2:5] -- [3 4 5]\n",
      "arr[::2] -- [1 3 5]\n"
     ]
    }
   ],
   "source": [
    "arr = np.array([1, 2, 3, 4, 5, 6])\n",
    "print \"arr --\", arr\n",
    "print \"arr[2] --\", arr[2]\n",
    "print \"arr[2:5] --\", arr[2:5]\n",
    "print \"arr[::2] --\", arr[::2]"
   ]
  },
  {
   "cell_type": "markdown",
   "metadata": {},
   "source": [
    "You can also index multidimensional arrays in a logical way using an enhanced indexing syntax. Remember that Python uses zero-based indexing!"
   ]
  },
  {
   "cell_type": "code",
   "execution_count": 4,
   "metadata": {
    "collapsed": false
   },
   "outputs": [
    {
     "name": "stdout",
     "output_type": "stream",
     "text": [
      "2D list:\n",
      "[[1, 2, 3], [4, 5, 6]]\n",
      "\n",
      "2D array:\n",
      "[[1 2 3]\n",
      " [4 5 6]]\n",
      "\n",
      "Single array element:\n",
      "6\n"
     ]
    }
   ],
   "source": [
    "lst_2d = [[1, 2, 3], [4, 5, 6]]\n",
    "arr_2d = np.array(lst_2d)\n",
    "\n",
    "print \"2D list:\"\n",
    "print lst_2d\n",
    "print\n",
    "print \"2D array:\"\n",
    "print arr_2d\n",
    "print\n",
    "print \"Single array element:\"\n",
    "print arr_2d[1, 2]"
   ]
  },
  {
   "cell_type": "markdown",
   "metadata": {},
   "source": [
    "#### Exercise #//n/\n",
    "\n",
    "##### Part 1\n",
    "\n",
    "Why do these indexing examples give the stated results?\n",
    "\n",
    " * result of `arr_2d[1, 0]` is `4`\n",
    " * result of `arr_2d[0]` is `[1, 2, 3]`\n",
    " * result of `arr_2d[1, 1:]` is `[5, 6]`\n",
    " * result of `arr_2d[0, ::2]` is `[[1, 3], [4, 6]]`"
   ]
  },
  {
   "cell_type": "code",
   "execution_count": 4,
   "metadata": {
    "collapsed": false
   },
   "outputs": [],
   "source": []
  },
  {
   "cell_type": "markdown",
   "metadata": {},
   "source": [
    "##### Part 2\n",
    "\n",
    "How would you index `arr_2d` to retrieve:\n",
    "\n",
    " * the third value (`3`),\n",
    " * the second row (`[4, 5, 6]`), \n",
    " * the first column (`[1, 4]`), and\n",
    " * the first column, retaining the outside dimension (`[[1, 4]]`)?"
   ]
  },
  {
   "cell_type": "code",
   "execution_count": 4,
   "metadata": {
    "collapsed": false
   },
   "outputs": [],
   "source": []
  },
  {
   "cell_type": "markdown",
   "metadata": {},
   "source": [
    "### Arrays are not lists"
   ]
  },
  {
   "cell_type": "markdown",
   "metadata": {},
   "source": [
    "Question: why do the following examples produce different results?"
   ]
  },
  {
   "cell_type": "code",
   "execution_count": 5,
   "metadata": {
    "collapsed": false
   },
   "outputs": [
    {
     "name": "stdout",
     "output_type": "stream",
     "text": [
      "[4, 5, 6]\n",
      "[2 5]\n"
     ]
    }
   ],
   "source": [
    "print lst_2d[0:2][1]\n",
    "print arr_2d[0:2, 1]"
   ]
  },
  {
   "cell_type": "markdown",
   "metadata": {},
   "source": [
    "The result we just received points to an important piece of learning, which is that in most cases NumPy arrays behave very differently to Python lists. Let's explore the differences (and some similarities) between the two."
   ]
  },
  {
   "cell_type": "markdown",
   "metadata": {},
   "source": [
    "TODO:\n",
    " * dtype : homogeneous : promotion"
   ]
  },
  {
   "cell_type": "markdown",
   "metadata": {},
   "source": [
    "**Expected duration:** ~ 20 mins"
   ]
  },
  {
   "cell_type": "markdown",
   "metadata": {},
   "source": [
    "#### The Array Object: Summary of key  points\n",
    " * properties : `shape`, `dtype`\n",
    " * creation : `array([list])`, `ones`, `zeros`, `arange`, `linspace`\n",
    " * indexing like Python objects : integers and slices\n",
    " * indexing produces further array objects\n",
    " * multi-dimensional indexing with multiple indices\n",
    " * indexing differences from list-of-lists\n"
   ]
  },
  {
   "cell_type": "markdown",
   "metadata": {},
   "source": [
    "## Application: Calculations <a class=\"anchor\" id=\"app-calc\"></a>"
   ]
  },
  {
   "cell_type": "markdown",
   "metadata": {},
   "source": [
    "### Elementwise Arithmetic <a class=\"anchor\" id=\"arithmetic_and_broadcasting\"></a>\n",
    "\n",
    "You can use NumPy to perform arithmetic operations between two arrays in an element-by-element fashion."
   ]
  },
  {
   "cell_type": "code",
   "execution_count": 6,
   "metadata": {
    "collapsed": false
   },
   "outputs": [
    {
     "name": "stdout",
     "output_type": "stream",
     "text": [
      "[0 1 2 3] + [0 1 2 3] = [0 2 4 6]\n"
     ]
    }
   ],
   "source": [
    "arr1 = np.arange(4)\n",
    "arr2 = np.arange(4)\n",
    "\n",
    "print arr1, '+', arr2, '=', arr1 + arr2"
   ]
  },
  {
   "cell_type": "markdown",
   "metadata": {},
   "source": [
    "#### Exercise #//n/\n",
    "\n",
    "Define some arrays and compute some results for different operators. Put the operations in different cells and see what works and what doesn't."
   ]
  },
  {
   "cell_type": "code",
   "execution_count": 6,
   "metadata": {
    "collapsed": false
   },
   "outputs": [],
   "source": []
  },
  {
   "cell_type": "code",
   "execution_count": 6,
   "metadata": {
    "collapsed": false
   },
   "outputs": [],
   "source": []
  },
  {
   "cell_type": "code",
   "execution_count": 6,
   "metadata": {
    "collapsed": false
   },
   "outputs": [],
   "source": []
  },
  {
   "cell_type": "markdown",
   "metadata": {},
   "source": [
    "It makes intrinsic sense that you should be able to add a constant to all values in an array:"
   ]
  },
  {
   "cell_type": "code",
   "execution_count": 7,
   "metadata": {
    "collapsed": false
   },
   "outputs": [
    {
     "name": "stdout",
     "output_type": "stream",
     "text": [
      "Original array: [0 1 2 3]\n",
      "\n",
      "Array + const: [5 6 7 8]\n"
     ]
    }
   ],
   "source": [
    "arr = np.arange(4)\n",
    "const = 5\n",
    "\n",
    "print \"Original array:\", arr\n",
    "print\n",
    "print \"Array + const:\", arr + const"
   ]
  },
  {
   "cell_type": "markdown",
   "metadata": {},
   "source": [
    "### Broadcasting\n",
    "\n",
    "There are times when you need to perform calculations between NumPy arrays of different sizes.\n",
    "\n",
    "For example, suppose you have maximum temperatures from each of three recording stations, recorded on two separate days."
   ]
  },
  {
   "cell_type": "code",
   "execution_count": 8,
   "metadata": {
    "collapsed": false
   },
   "outputs": [
    {
     "name": "stdout",
     "output_type": "stream",
     "text": [
      "\n",
      "raw data:\n",
      "[[12 14 16]\n",
      " [11 13 15]]\n"
     ]
    }
   ],
   "source": [
    "daily_records = np.array([[12, 14, 16], [11, 13, 15]])\n",
    "print\n",
    "print 'raw data:'\n",
    "print daily_records"
   ]
  },
  {
   "cell_type": "markdown",
   "metadata": {},
   "source": [
    "Each station is known to overstate the maximum recorded temperature by a different known constant value. You wish to subtract the appropriate offset from each station's values.\n",
    "\n",
    "You can do that like this:"
   ]
  },
  {
   "cell_type": "code",
   "execution_count": 9,
   "metadata": {
    "collapsed": false,
    "internals": {
     "slide_helper": "subslide_end"
    },
    "slide_helper": "slide_end",
    "slideshow": {
     "slide_type": "-"
    }
   },
   "outputs": [
    {
     "name": "stdout",
     "output_type": "stream",
     "text": [
      "\n",
      "corrected values:\n",
      "[[10 13 12]\n",
      " [ 9 12 11]]\n"
     ]
    }
   ],
   "source": [
    "offset = np.array([2, 1, 4])\n",
    "\n",
    "corrected_records = daily_records - offset\n",
    "print\n",
    "print 'corrected values:'\n",
    "print corrected_records"
   ]
  },
  {
   "cell_type": "markdown",
   "metadata": {},
   "source": [
    "NumPy allows you to do this easily using a powerful piece of functionality called **broadcasting**."
   ]
  },
  {
   "cell_type": "markdown",
   "metadata": {
    "internals": {},
    "slideshow": {
     "slide_type": "-"
    }
   },
   "source": [
    "Broadcasting is a way of treating the arrays ***as if*** they had the same dimensions, and thus have elements all corresponding.  It is then easy to perform the calculation, element-wise.  \n",
    "It does this by matching dimensions in one array to the other where possible, and using repeated values where there is no corresponding dimension in the other array."
   ]
  },
  {
   "cell_type": "markdown",
   "metadata": {},
   "source": [
    "#### Rules of Broadcasting"
   ]
  },
  {
   "cell_type": "markdown",
   "metadata": {},
   "source": [
    "Broadcasting applies these three rules:\n",
    "\n",
    "1.    If the two arrays differ in their number of dimensions, the shape of the array with fewer dimensions is padded with ones on its leading (left) side.\n",
    "\n",
    "1.    If the shape of the two arrays does not match in any dimension, either array with shape equal to 1 in a given dimension is stretched to match the other shape.\n",
    "\n",
    "1.    If in any dimension the sizes disagree and neither has shape equal to 1, an error is raised.\n",
    "\n",
    "Note that all of this happens without ever actually creating the expanded arrays in memory! This broadcasting behavior is in practice enormously powerful, especially given that when NumPy broadcasts to create new dimensions or to 'stretch' existing ones, it doesn't actually duplicate the data. In the example above the operation is carried out as if the scalar 1.5 was a 1D array with 1.5 in all of its entries, but no actual array is ever created. This can save lots of memory in cases when the arrays in question are large. As such this can have significant performance implications."
   ]
  },
  {
   "cell_type": "markdown",
   "metadata": {},
   "source": [
    "![Illustration of broadcasting](../images/fig_broadcast_visual_1.png)\n",
    "\n",
    "([image source](http://www.astroml.org/book_figures/appendix/fig_broadcast_visual.html))"
   ]
  },
  {
   "cell_type": "markdown",
   "metadata": {},
   "source": [
    "#### Exercise #//n/\n",
    " 1. Run some extra exercises\n",
    " 1. Allow a space for play with delegates' own examples - and hopefully they will hit a problem that needs to be broadcast."
   ]
  },
  {
   "cell_type": "code",
   "execution_count": 9,
   "metadata": {
    "collapsed": false
   },
   "outputs": [],
   "source": []
  },
  {
   "cell_type": "code",
   "execution_count": 9,
   "metadata": {
    "collapsed": false
   },
   "outputs": [],
   "source": []
  },
  {
   "cell_type": "markdown",
   "metadata": {},
   "source": [
    "#### Reshaping arrays to aid broadcasting\n",
    "\n",
    "NumPy allows you to change the shape of an array, so long as the total number of elements in the array does not change.\n",
    "\n",
    "For example, we could reshape a flat array with 12 elements to a 2D array with shape `(2, 6)`, or `(3, 2, 2)`, or even `(3, 4, 1)`. \n",
    "\n",
    "We could not, however, reshape it to have shape `(2, 5)`, because the total number of elements would not be kept constant."
   ]
  },
  {
   "cell_type": "markdown",
   "metadata": {},
   "source": [
    "Now suppose you want to apply a correction for each day.\n",
    "For example, you might try :\n",
    "\n",
    "```python\n",
    "days_adjust = np.array([1.5, 3.7])\n",
    "adjusted = daily_records - days_adjust\n",
    "```\n",
    "but that results in :\n",
    "```\n",
    "---------------------------------------------------------------------------\n",
    "ValueError                                Traceback (most recent call last)\n",
    "<ipython-input-8-158daf2f21f2> in <module>()\n",
    "      1 days_adjust = np.array([1.5, 3.7])\n",
    "----> 2 adjusted = daily_records - days_adjust\n",
    "      3 print adjusted\n",
    "\n",
    "ValueError: operands could not be broadcast together with shapes (2,3) (2,) \n",
    "```"
   ]
  },
  {
   "cell_type": "markdown",
   "metadata": {},
   "source": [
    "Clearly, this doesn't work !"
   ]
  },
  {
   "cell_type": "markdown",
   "metadata": {},
   "source": [
    "#### Exercise #//n/\n",
    "\n",
    "With reference to the above rules of broadcasting:\n",
    " 1. describe why the above attempt to subtract `days_adjust` fails\n",
    " 1. work out how you can modify the 'days_adjust' array to get the desired result.  \n",
    "    Hint: imagine how the 'days_adjust' values *should* look, when expanded to match the dimensions of 'daily_records'."
   ]
  },
  {
   "cell_type": "markdown",
   "metadata": {},
   "source": [
    "#### Exercise #//n+1/\n",
    "Sometimes an operation will produce a result, but not the one you wanted.\n",
    "\n",
    "For example, suppose we have :\n",
    "```python\n",
    "A = np.array([[1, 2, 3],\n",
    "              [4, 5, 6],\n",
    "              [7, 8, 9]])\n",
    "```\n",
    "\n",
    "and we wish to add 0, 100 and 400 ***to the rows***.\n",
    "That is,\n",
    "\n",
    "```python\n",
    "B = np.array([0, 100, 400])\n",
    "# and...\n",
    "desired_result = np.array([[  1,   2,   3],\n",
    "                           [104, 105, 406],\n",
    "                           [407, 407, 409]])\n",
    "```"
   ]
  },
  {
   "cell_type": "markdown",
   "metadata": {},
   "source": [
    "##### Questions:\n",
    " 1. what will be the result of simply adding A and B ?\n",
    " 1. how can you perform the correct calculation on A and B to get `desired_result` ?"
   ]
  },
  {
   "cell_type": "code",
   "execution_count": 9,
   "metadata": {
    "collapsed": false
   },
   "outputs": [],
   "source": []
  },
  {
   "cell_type": "code",
   "execution_count": 9,
   "metadata": {
    "collapsed": false
   },
   "outputs": [],
   "source": []
  },
  {
   "cell_type": "markdown",
   "metadata": {},
   "source": [
    "Let's return to the daily maximum temperature example. Imagine that one day you receive four days' worth of maximum temperature values for the three sites, but for some reason the data are malformed into one long list of values. Nevertheless, you still need to apply the correct offsets to each site's values.\n",
    "\n",
    "You can assume that the ordering of the values is the same as in the earlier example. That is, the order is `[day1-station1, day1-station2, day1-station3, day2-station1, ...]` and so on.\n",
    "\n",
    "    four_days = [16, 14, 12, 15, 14, 14, 16, 11, 9, 13, 12, 10]\n",
    "\n",
    "##### Questions:\n",
    "\n",
    " 1. Suppose you want to remove the daily offsets, as before: Use broadcasting and reshape to achieve this.\n",
    " 2. Suppose the values were supplied in a different order, with adjacent days for each station, i.e. `[day1-station1, day2-station1, day3-station1, day1-station2, day2-station2, day3-station2, ...]`.  Write code to handle this data."
   ]
  },
  {
   "cell_type": "code",
   "execution_count": 9,
   "metadata": {
    "collapsed": false
   },
   "outputs": [],
   "source": []
  },
  {
   "cell_type": "markdown",
   "metadata": {},
   "source": [
    "Now go and play! (How do we structure this?)\n",
    "\n",
    "You could review some of your experiments that failed from the earlier \"Elementwise Arithmetic\" section and see if you can now make them work."
   ]
  },
  {
   "cell_type": "markdown",
   "metadata": {},
   "source": [
    "#### Broadcasting: Summary of key  points\n",
    "\n",
    " * operations can be performed between arrays of different shapes\n",
    " * the arrays' dimensions are aligned according to fixed rules; where one input lacks a given dimension, values are repeated.\n",
    " * reshaping can be used to get arrays to combine as required."
   ]
  },
  {
   "cell_type": "code",
   "execution_count": 9,
   "metadata": {
    "collapsed": false
   },
   "outputs": [],
   "source": []
  },
  {
   "cell_type": "markdown",
   "metadata": {},
   "source": [
    "### Statistics <a class=\"anchor\" id=\"statistics\"></a>\n",
    "\n",
    "Numpy arrays support many common statistical calculations. For a list of common operations, see : https://docs.scipy.org/doc/numpy/reference/routines.statistics.html.\n",
    "\n",
    "_It feels like we could do with some more written/spoken discussion here..._"
   ]
  },
  {
   "cell_type": "markdown",
   "metadata": {},
   "source": [
    "#### Exercise nn.mm\n",
    " * What is the mean value over all the values in our `daily_records` array, given by the `np.mean()` function ?\n",
    " * What other similar statistical operations exist (see above link) ?\n",
    " * A mean value can also be calculated with `<array>.mean()`.  Is that the same thing ?\n",
    " * How should you calculate a median value -- with `np.median(array)` or `array.median()` ?"
   ]
  },
  {
   "cell_type": "code",
   "execution_count": 9,
   "metadata": {
    "collapsed": false
   },
   "outputs": [],
   "source": []
  },
  {
   "cell_type": "code",
   "execution_count": 0,
   "metadata": {
    "collapsed": false
   },
   "outputs": [],
   "source": []
  },
  {
   "cell_type": "markdown",
   "metadata": {},
   "source": [
    "Used without any further arguments, statistical functions simply reduce the whole array to a single value.  In practice, however, we very often want to calculate statistics over only *some* of the dimensions.\n",
    "\n",
    "For example, given the above `daily_records` data, we might want :\n",
    "\n",
    "* (a) an average over all days, for each station, or\n",
    "* (b) an average over all stations, for each day."
   ]
  },
  {
   "cell_type": "markdown",
   "metadata": {},
   "source": [
    "#### Exercise nn.mm\n",
    "\n",
    "* produce the two kinds of single-axis average mentioned above -- that is, \n",
    "  * (a) over all days at each station, \n",
    "  * (b) over all stations for each day.\n",
    "  * (Hint: look at the documentation -- the term 'axis' in NumPy refers to the number of a dimension.)\n",
    "* Create a sample 3-D array, to represent air temperature at given times, X and Y positions :\n",
    "   1. how can you form a mean over all X and Y at each timestep ?  \n",
    "   1. what shape does such result have ?\n",
    "   1. how can you calculate the `np.ptp` statistic of this data in a similar form, i.e. for all X and Y at each timestep ?  \n",
    "     N.B. `ptp` means a peak-to-peak range, i.e. \"max(data) - min(data)\"."
   ]
  },
  {
   "cell_type": "markdown",
   "metadata": {},
   "source": [
    "#### Statistics : Summary of key points\n",
    " * most statistical functions are available in two different forms, as in `array.mean()` and also `np.mean(array)`,\n",
    "   the choice being mostly a question of style.\n",
    " * statistical operations operate over, and remove (or \"collapse\") the array dimensions that they are applied to.\n",
    " * an \"axis\" keyword specifies operation over dimensions : this can be one; multiple; or all.\n",
    "   Note: not all operations permit operation over specifically selected dimensions\n",
    " * Statistical operations are not really part of Numpy itself, but are defined by the higher-level Scipy project.\n"
   ]
  },
  {
   "cell_type": "markdown",
   "metadata": {},
   "source": [
    "### Masked Arrays\n",
    "\n",
    "Real-world measurements processes often result in certain datapoint values being uncertain or completely absent.  This is usually indicated by additional data quality information, stored alongside the data values.\n",
    "\n",
    "For example, we might know that in our previous `daily_records` data, the value for station-2 on day-1 is invalid."
   ]
  },
  {
   "cell_type": "markdown",
   "metadata": {},
   "source": [
    "data = np.array("
   ]
  },
  {
   "cell_type": "markdown",
   "metadata": {},
   "source": [
    "In these cases we need to calculate statistics that include only ***valid*** datapoints.  Numpy provides a \"masked array\" type for this type of calculation.\n",
    "\n",
    "To represent the above-mentioned missing datapoint, we can make a masked version of the data :"
   ]
  },
  {
   "cell_type": "code",
   "execution_count": 10,
   "metadata": {
    "collapsed": false
   },
   "outputs": [
    {
     "name": "stdout",
     "output_type": "stream",
     "text": [
      "unmasked average =  13.5\n",
      "masked average =  13.4\n"
     ]
    }
   ],
   "source": [
    "daily_records = np.array([[12, 14, 16], [11, 13, 15]])\n",
    "masked_data = np.ma.masked_array(daily_records)\n",
    "masked_data[0, 1] = np.ma.masked\n",
    "print 'unmasked average = ', np.mean(daily_records)\n",
    "print 'masked average = ', np.ma.mean(masked_data)\n"
   ]
  },
  {
   "cell_type": "code",
   "execution_count": 10,
   "metadata": {
    "collapsed": false
   },
   "outputs": [],
   "source": []
  },
  {
   "cell_type": "code",
   "execution_count": 10,
   "metadata": {
    "collapsed": false
   },
   "outputs": [],
   "source": []
  },
  {
   "cell_type": "markdown",
   "metadata": {},
   "source": [
    "# Efficiency <a class=\"anchor\" id=\"efficiency\"></a>"
   ]
  },
  {
   "cell_type": "markdown",
   "metadata": {},
   "source": [
    "## Loops and Vectorised Operations\n",
    "\n",
    "We will now explore calculation performance and consider efficiency in terms of processing time.\n",
    "\n",
    "Firstly let's look at a simple processing time tool that is provided in notebooks; ``%%timeit`` :"
   ]
  },
  {
   "cell_type": "code",
   "execution_count": 11,
   "metadata": {
    "collapsed": false
   },
   "outputs": [
    {
     "name": "stdout",
     "output_type": "stream",
     "text": [
      "100000 loops, best of 3: 5.02 µs per loop\n"
     ]
    }
   ],
   "source": [
    "%%timeit \n",
    "x = range(500)"
   ]
  },
  {
   "cell_type": "markdown",
   "metadata": {},
   "source": [
    "Repeat that, specifying only 100 loops and fastest time of 5 runs"
   ]
  },
  {
   "cell_type": "code",
   "execution_count": 12,
   "metadata": {
    "collapsed": false
   },
   "outputs": [
    {
     "name": "stdout",
     "output_type": "stream",
     "text": [
      "100 loops, best of 5: 5.07 µs per loop\n"
     ]
    }
   ],
   "source": [
    "%%timeit -n 100 -r 5\n",
    "x = range(500)"
   ]
  },
  {
   "cell_type": "markdown",
   "metadata": {},
   "source": [
    "This gives us an easy way to evaluate performance for implementations ..."
   ]
  },
  {
   "cell_type": "code",
   "execution_count": 13,
   "metadata": {
    "collapsed": false
   },
   "outputs": [],
   "source": [
    "rands = np.random.random(1000000).reshape(100, 100, 100)"
   ]
  },
  {
   "cell_type": "code",
   "execution_count": 14,
   "metadata": {
    "collapsed": false
   },
   "outputs": [
    {
     "name": "stdout",
     "output_type": "stream",
     "text": [
      "10 loops, best of 5: 415 ms per loop\n"
     ]
    }
   ],
   "source": [
    "%%timeit -n 10 -r 5\n",
    "overPointEightLoop = 0\n",
    "for i in range(100):\n",
    "    for j in range(100):\n",
    "        for k in range(100):\n",
    "            if rands[i, j, k] > 0.8:\n",
    "                overPointEightLoop +=1"
   ]
  },
  {
   "cell_type": "code",
   "execution_count": 15,
   "metadata": {
    "collapsed": false
   },
   "outputs": [
    {
     "name": "stdout",
     "output_type": "stream",
     "text": [
      "10 loops, best of 5: 9.24 ms per loop\n"
     ]
    }
   ],
   "source": [
    "%%timeit -n 10 -r 5\n",
    "overPointEightWhere = rands[rands > 0.8].size"
   ]
  },
  {
   "cell_type": "code",
   "execution_count": 15,
   "metadata": {
    "collapsed": false
   },
   "outputs": [],
   "source": []
  },
  {
   "cell_type": "markdown",
   "metadata": {},
   "source": [
    "## Views on Arrays\n",
    "NumPy attempts to not make copies of arrays unless it is explicitly told to.  \n",
    "\n",
    "Many NumPy operations will produce a reference to an existing array, known as a \"view\", instead of making a whole new array.\n",
    "\n",
    "For example: Indexing and reshaping provide a view of the same memory wherever possible."
   ]
  },
  {
   "cell_type": "code",
   "execution_count": 16,
   "metadata": {
    "collapsed": false
   },
   "outputs": [
    {
     "name": "stdout",
     "output_type": "stream",
     "text": [
      "Before\n",
      "[[0 1 2 3]\n",
      " [4 5 6 7]]\n",
      "After\n",
      "[[1000    1    2    3]\n",
      " [   4    5    6    7]]\n"
     ]
    }
   ],
   "source": [
    "arr = np.arange(8)\n",
    "arr_view = arr.reshape(2, 4)\n",
    "\n",
    "# Print the \"view\" array from reshape.\n",
    "print 'Before\\n', arr_view\n",
    "\n",
    "# Update the first element of the original array.\n",
    "arr[0] = 1000\n",
    "\n",
    "# Print the \"view\" array from reshape again,\n",
    "# noticing the first value has changed.\n",
    "print 'After\\n', arr_view"
   ]
  },
  {
   "cell_type": "markdown",
   "metadata": {},
   "source": [
    "What this means is that if one array (`arr`) is modified, the other (`arr_view`) will also be updated :  the same memory is being shared.\n",
    "\n",
    "This is a valuable tool which enables the system memory overhead to be managed, which is particularly useful when handling lots of large arrays. \n",
    "The lack of copying allows for very efficient vectorized operations.\n",
    "\n",
    "Remember, this behaviour is automatic in most of NumPy, so it requires some consideration in your code, it can lead to some bugs that are hard to track down.\n",
    "For example, if you are changing some elements of an array that you are using elsewhere, you may want to explicitly copy that array before making changes.\n",
    "\n",
    "If in doubt, you can always copy the data to a different block of memory with the `copy()` method.\n",
    "\n",
    "For example ..."
   ]
  },
  {
   "cell_type": "code",
   "execution_count": 17,
   "metadata": {
    "collapsed": false
   },
   "outputs": [
    {
     "name": "stdout",
     "output_type": "stream",
     "text": [
      "Before\n",
      "[[0 1 2 3]\n",
      " [4 5 6 7]]\n",
      "After\n",
      "[[0 1 2 3]\n",
      " [4 5 6 7]]\n"
     ]
    }
   ],
   "source": [
    "arr = np.arange(8)\n",
    "arr_view = arr.reshape(2, 4).copy()\n",
    "\n",
    "# Print the \"view\" array from reshape.\n",
    "print 'Before\\n', arr_view\n",
    "\n",
    "# Update the first element of the original array.\n",
    "arr[0] = 1000\n",
    "\n",
    "# Print the \"view\" array from reshape again,\n",
    "# noticing the first value has changed.\n",
    "print 'After\\n', arr_view"
   ]
  },
  {
   "cell_type": "markdown",
   "metadata": {},
   "source": [
    "# Conclusions <a class=\"anchor\" id=\"conclusions\"></a>"
   ]
  },
  {
   "cell_type": "code",
   "execution_count": 17,
   "metadata": {
    "collapsed": false
   },
   "outputs": [],
   "source": []
  },
  {
   "cell_type": "markdown",
   "metadata": {},
   "source": [
    "# Further Reading <a class=\"anchor\" id=\"further\"></a>\n",
    "\n",
    "A quick list of some topics and facilities you probably ought to know about, but we did not have time for\n",
    "\n",
    "**TODO:** add clickable links to documentation to all these\n",
    "\n",
    "Concepts:\n",
    "  *  module functions and array methods\n",
    "  *  masked arrays and missing data\n",
    "    * \".mask\", \".data\", \".fill_value\", \".filled()\"\n",
    "    * NaNs and nan-functions ('nanmean', 'nanmax' etc)\n",
    "    * boolean array indexing\n",
    "  *  matrix multiply\n",
    "  *  C and Fortran storage order\n",
    "  *  file i/o\n",
    "\n",
    "Terminology:\n",
    "  *  ufunc\n",
    "  *  boolean array\n",
    "  *  \"fancy\" indexing\n",
    "\n",
    "Concrete functions\n",
    "  *  empty\n",
    "  *  meshgrid\n",
    "  *  stack  + concatenate\n",
    "  *  transpose, \".T\"\n"
   ]
  },
  {
   "cell_type": "code",
   "execution_count": 17,
   "metadata": {
    "collapsed": false
   },
   "outputs": [],
   "source": []
  },
  {
   "cell_type": "code",
   "execution_count": 17,
   "metadata": {
    "collapsed": false
   },
   "outputs": [],
   "source": []
  }
 ],
 "metadata": {
  "kernelspec": {
   "display_name": "Python 2",
   "language": "python",
   "name": "python2"
  },
  "language_info": {
   "codemirror_mode": {
    "name": "ipython",
    "version": 2
   },
   "file_extension": ".py",
   "mimetype": "text/x-python",
   "name": "python",
   "nbconvert_exporter": "python",
   "pygments_lexer": "ipython2",
   "version": "2.7.12"
  }
 },
 "nbformat": 4,
 "nbformat_minor": 0
}
