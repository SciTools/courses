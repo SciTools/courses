{
 "metadata": {
  "name": "",
  "signature": "sha256:9e82a2a1907d7c5330d237f2c0db8b576204b712b2af20ccffc69fe20c1e6ba8"
 },
 "nbformat": 3,
 "nbformat_minor": 0,
 "worksheets": [
  {
   "cells": [
    {
     "cell_type": "markdown",
     "metadata": {
      "internals": {
       "slide_type": "subslide"
      },
      "slideshow": {
       "slide_type": "slide"
      }
     },
     "source": [
      "# An Introduction to NumPy\n",
      "\n",
      "Blurb here..."
     ]
    },
    {
     "cell_type": "markdown",
     "metadata": {
      "internals": {},
      "slideshow": {
       "slide_type": "-"
      }
     },
     "source": [
      "## Course Objectives\n",
      "\n",
      "1. blah\n",
      "2. blab"
     ]
    },
    {
     "cell_type": "code",
     "collapsed": false,
     "input": [
      "import numpy as np"
     ],
     "language": "python",
     "metadata": {},
     "outputs": [],
     "prompt_number": 1
    },
    {
     "cell_type": "markdown",
     "metadata": {
      "internals": {},
      "slideshow": {
       "slide_type": "-"
      }
     },
     "source": [
      "## The NumPy Array"
     ]
    },
    {
     "cell_type": "markdown",
     "metadata": {
      "internals": {},
      "slideshow": {
       "slide_type": "-"
      }
     },
     "source": [
      "## Motivation: what are arrays good for?"
     ]
    },
    {
     "cell_type": "markdown",
     "metadata": {
      "internals": {},
      "slideshow": {
       "slide_type": "-"
      }
     },
     "source": [
      "## Array: basic properties"
     ]
    },
    {
     "cell_type": "markdown",
     "metadata": {
      "internals": {},
      "slideshow": {
       "slide_type": "-"
      }
     },
     "source": [
      "## Application: Calculations\n",
      "\n",
      "### Elementwise Arithmetic"
     ]
    },
    {
     "cell_type": "markdown",
     "metadata": {},
     "source": [
      "### Broadcasting\n",
      "\n",
      "There are times when you need to perform calculations between NumPy arrays of different sizes.\n",
      "\n",
      "For example, suppose you have three temperature recording stations and maximum record temperature from each station on two separate days\n",
      "\n",
      "Each temperature recording station is known to overstate the maximum recorded temperature by a known constant value.  \n",
      "You wish to subtract this offset from each station's values.\n",
      "\n",
      "You can do that like this:"
     ]
    },
    {
     "cell_type": "code",
     "collapsed": false,
     "input": [
      "daily_records = np.array([[12, 14, 16], [11, 13, 15]])\n",
      "print\n",
      "print 'raw data:'\n",
      "print daily_records\n",
      "\n",
      "offset = np.array([2, 1, 4])\n",
      "\n",
      "corrected_records = daily_records - offset\n",
      "print\n",
      "print 'corrected values:'\n",
      "print corrected_records"
     ],
     "language": "python",
     "metadata": {
      "internals": {
       "slide_helper": "subslide_end"
      },
      "slide_helper": "slide_end",
      "slideshow": {
       "slide_type": "-"
      }
     },
     "outputs": [
      {
       "output_type": "stream",
       "stream": "stdout",
       "text": [
        "\n",
        "raw data:\n",
        "[[12 14 16]\n",
        " [11 13 15]]\n",
        "\n",
        "corrected values:\n",
        "[[10 13 12]\n",
        " [ 9 12 11]]\n"
       ]
      }
     ],
     "prompt_number": 7
    },
    {
     "cell_type": "markdown",
     "metadata": {},
     "source": [
      "NumPy allows you to do this easily using a powerful piece of functionality called **broadcasting**."
     ]
    },
    {
     "cell_type": "markdown",
     "metadata": {
      "internals": {},
      "slideshow": {
       "slide_type": "-"
      }
     },
     "source": [
      "Broadcasting is a way of treating the arrays ***as if*** they had the same dimensions, and thus have elements all corresponding.  It is then easy to perform the calculation, element-wise.  \n",
      "It does this by matching dimensions in one array to the other where possible, and using repeated values where there is no corresponding dimension in the other array."
     ]
    },
    {
     "cell_type": "markdown",
     "metadata": {},
     "source": [
      "#### Rules of Broadcasting"
     ]
    },
    {
     "cell_type": "markdown",
     "metadata": {},
     "source": [
      "Broadcasting applies these three rules:\n",
      "\n",
      "1.    If the two arrays differ in their number of dimensions, the shape of the array with fewer dimensions is padded with ones on its leading (left) side.\n",
      "\n",
      "1.    If the shape of the two arrays does not match in any dimension, either array with shape equal to 1 in a given dimension is stretched to match the other shape.\n",
      "\n",
      "1.    If in any dimension the sizes disagree and neither has shape equal to 1, an error is raised.\n",
      "\n",
      "Note that all of this happens without ever actually creating the expanded arrays in memory! This broadcasting behavior is in practice enormously powerful, especially given that when NumPy broadcasts to create new dimensions or to 'stretch' existing ones, it doesn't actually duplicate the data. In the example above the operation is carried out as if the scalar 1.5 was a 1D array with 1.5 in all of its entries, but no actual array is ever created. This can save lots of memory in cases when the arrays in question are large. As such this can have significant performance implications."
     ]
    },
    {
     "cell_type": "markdown",
     "metadata": {},
     "source": [
      "#### Exercise #//n/\n",
      "Now suppose you want to apply a correction for each day.\n",
      "For example, you might try :\n",
      "```\n",
      "days_adjust = np.array([1.5, 3.7])\n",
      "adjusted = daily_records - days_adjust\n",
      "\n",
      "---------------------------------------------------------------------------\n",
      "ValueError                                Traceback (most recent call last)\n",
      "<ipython-input-8-158daf2f21f2> in <module>()\n",
      "      1 days_adjust = np.array([1.5, 3.7])\n",
      "----> 2 adjusted = daily_records - days_adjust\n",
      "      3 print adjusted\n",
      "\n",
      "ValueError: operands could not be broadcast together with shapes (2,3) (2,) \n",
      "```\n"
     ]
    },
    {
     "cell_type": "markdown",
     "metadata": {},
     "source": [
      "Clearly, this doesn't work !\n",
      "\n",
      "With reference to the above rules of broadcasting:\n",
      " 1. describe why this fails\n",
      " 1. work out how you can modify the 'days_adjust' array to get the desired result.  \n",
      "    Hint: imagine how the 'days_adjust' values *should* look, when expanded to match the dimensions of 'daily_records'."
     ]
    },
    {
     "cell_type": "markdown",
     "metadata": {},
     "source": [
      "#### Reshaping arrays to aid broadcasting\n",
      "\n",
      "NumPy allows you to change the shape of an array, so long as the total number of elements in the array does not change. For example, we could reshape a flat array with 12 elements to a 2D array with shape `(2, 6)`, or even `(3, 2, 4)`. We could not reshape it to have shape `(2, 5)` because the total number of elements would not be kept constant."
     ]
    },
    {
     "cell_type": "markdown",
     "metadata": {},
     "source": [
      "Let's return to the daily maximum temperature example. Imagine that one day you receive four days' worth of maximum temperature values for the three sites, but you still need to apply the correct offsets for each site's values.\n",
      "\n",
      "    four_days = [16, 14, 12, 15, 14, 14, 16, 11, 9, 13, 12, 10]\n",
      "\n",
      "Use broadcasting and reshape to achieve this."
     ]
    }
   ],
   "metadata": {}
  }
 ]
}