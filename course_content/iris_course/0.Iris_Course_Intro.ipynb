{
 "cells": [
  {
   "cell_type": "markdown",
   "metadata": {},
   "source": [
    "### An Introduction to Iris\n",
    "## Course Intro "
   ]
  },
  {
   "cell_type": "code",
   "execution_count": null,
   "metadata": {},
   "outputs": [],
   "source": []
  },
  {
   "cell_type": "markdown",
   "metadata": {},
   "source": [
    "This course is intended as a beginners course."
   ]
  },
  {
   "cell_type": "markdown",
   "metadata": {},
   "source": [
    "## Course Aim\n",
    "\n",
    "The aim of this course is to introduce Iris and its main features and functionality, with a focus on how these relate to data analysis.\n",
    "\n",
    "The course will cover:\n",
    "1. [The Iris Cube](1.The_Iris_Cube.ipynb)\n",
    "1. [Loading and Saving Data](2.Loading_and_Saving.ipynb)\n",
    "1. [Subcube Extraction](3.Subcube_Extraction.ipynb)\n",
    "1. [Merge and Concatenate](4.Merge_and_Concatenate.ipynb)\n",
    "1. [Plotting](5.Cube_Plotting.ipynb)\n",
    "1. [Data Processing](6.Data_Processing.ipynb)\n",
    "1. [Advanced Concepts](7.Advanced_Concepts.ipynb)"
   ]
  },
  {
   "cell_type": "code",
   "execution_count": 1,
   "metadata": {},
   "outputs": [
    {
     "name": "stdout",
     "output_type": "stream",
     "text": [
      "2.2.0\n"
     ]
    }
   ],
   "source": [
    "import iris\n",
    "print(iris.__version__)"
   ]
  }
 ],
 "metadata": {
  "kernelspec": {
   "display_name": "Python 3",
   "language": "python",
   "name": "python3"
  },
  "language_info": {
   "codemirror_mode": {
    "name": "ipython",
    "version": 3
   },
   "file_extension": ".py",
   "mimetype": "text/x-python",
   "name": "python",
   "nbconvert_exporter": "python",
   "pygments_lexer": "ipython3",
   "version": "3.6.6"
  }
 },
 "nbformat": 4,
 "nbformat_minor": 2
}
