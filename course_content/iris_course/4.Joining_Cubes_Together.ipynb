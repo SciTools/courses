{
 "cells": [
  {
   "cell_type": "code",
   "execution_count": null,
   "metadata": {},
   "outputs": [],
   "source": [
    "%matplotlib inline"
   ]
  },
  {
   "cell_type": "markdown",
   "metadata": {},
   "source": [
    "## Iris introduction course\n",
    "# 4. Joining Cubes Together\n",
    "\n",
    "**Learning outcome**: by the end of this section, you will be able to apply Iris functionality to combine multiple Iris cubes into a new larger cube.\n",
    "\n",
    "**Duration:** 1 hour\n",
    "\n",
    "**Overview:**<br>\n",
    "3.1 [Merge](#merge)<br>\n",
    "3.2 [Concatenate](#concatenate)<br>\n",
    "3.3 [Summary of the Section](#summary)"
   ]
  },
  {
   "cell_type": "markdown",
   "metadata": {},
   "source": [
    "## Setup"
   ]
  },
  {
   "cell_type": "code",
   "execution_count": null,
   "metadata": {},
   "outputs": [],
   "source": [
    "import iris"
   ]
  },
  {
   "cell_type": "markdown",
   "metadata": {},
   "source": [
    "----\n",
    "\n",
    "## 3.1 Merge<a id='merge'></a>\n",
    "\n",
    "When Iris loads data it tries to reduce the number of cubes returned by collecting together multiple fields with\n",
    "shared metadata into a single multidimensional cube. In Iris, this is known as merging.\n",
    "\n",
    "In order to merge two cubes, they must be identical in everything but a scalar dimension, which goes on to become a new data dimension.\n",
    "\n",
    "The ``iris.load_raw`` function can be used as a diagnostic tool to identify the individual \"fields\" that Iris identifies in a given set of filenames before any merge takes place:"
   ]
  },
  {
   "cell_type": "code",
   "execution_count": null,
   "metadata": {},
   "outputs": [],
   "source": [
    "fname = iris.sample_data_path('GloSea4', 'ensemble_008.pp')\n",
    "raw_cubes = iris.load_raw(fname)\n",
    "\n",
    "print(len(raw_cubes))"
   ]
  },
  {
   "cell_type": "markdown",
   "metadata": {},
   "source": [
    "When we look in detail at these cubes, we find that they are identical in every coordinate except for the scalar forecast_period and time coordinates:"
   ]
  },
  {
   "cell_type": "code",
   "execution_count": null,
   "metadata": {},
   "outputs": [],
   "source": [
    "print(raw_cubes[0])\n",
    "print('--' * 50)\n",
    "print(raw_cubes[1])"
   ]
  },
  {
   "cell_type": "markdown",
   "metadata": {},
   "source": [
    "Any CubeList can be merged with the ``merge`` method, and the resulting CubeList from load_raw is no different.\n",
    "The ``merge`` method *always* returns another CubeList:"
   ]
  },
  {
   "cell_type": "code",
   "execution_count": null,
   "metadata": {},
   "outputs": [],
   "source": [
    "merged_cube, = raw_cubes.merge()\n",
    "print(merged_cube)"
   ]
  },
  {
   "cell_type": "markdown",
   "metadata": {},
   "source": [
    "When we look in more detail, we can see that the time coordinate has become a new dimension, as well as gaining another forecast_period auxiliary coordinate:"
   ]
  },
  {
   "cell_type": "code",
   "execution_count": null,
   "metadata": {},
   "outputs": [],
   "source": [
    "print(merged_cube.coord('time'))\n",
    "print(merged_cube.coord('forecast_period'))"
   ]
  },
  {
   "cell_type": "markdown",
   "metadata": {},
   "source": [
    "### Identifying merge problems\n",
    "\n",
    "In order to avoid the Iris merge functionality making often inappropriate assumptions about incoming data, merge is strict with regards to the uniformity of the incoming cubes.\n",
    "\n",
    "For example, if we load the fields from two ensemble members from the GloSea4 model sample data, we see we have 12 fields before any merge takes place:"
   ]
  },
  {
   "cell_type": "code",
   "execution_count": null,
   "metadata": {},
   "outputs": [],
   "source": [
    "fname = iris.sample_data_path('GloSea4', 'ensemble_00[34].pp')\n",
    "cubes = iris.load_raw(fname, 'surface_temperature')\n",
    "print(len(cubes))"
   ]
  },
  {
   "cell_type": "markdown",
   "metadata": {},
   "source": [
    "If we try to merge these 12 cubes we get 2 cubes rather than one:"
   ]
  },
  {
   "cell_type": "code",
   "execution_count": null,
   "metadata": {},
   "outputs": [],
   "source": [
    "incomplete_cubes = cubes.merge(unique=False)\n",
    "print(incomplete_cubes)"
   ]
  },
  {
   "cell_type": "markdown",
   "metadata": {},
   "source": [
    "When we look in more detail at these two cubes, what is different between the two? (Hint: One value changes, another is completely missing)"
   ]
  },
  {
   "cell_type": "code",
   "execution_count": null,
   "metadata": {},
   "outputs": [],
   "source": [
    "print(incomplete_cubes[0])\n",
    "print('--' * 50)\n",
    "print(incomplete_cubes[1])"
   ]
  },
  {
   "cell_type": "markdown",
   "metadata": {},
   "source": [
    "By adding the missing coordinate, we can trigger a merge of the 12 cubes into a single cube, as expected:"
   ]
  },
  {
   "cell_type": "code",
   "execution_count": null,
   "metadata": {},
   "outputs": [],
   "source": [
    "for cube in cubes:\n",
    "    if not cube.coords('realization'):\n",
    "        cube.add_aux_coord(iris.coords.DimCoord(np.int32(3),\n",
    "                                                'realization'))\n",
    "\n",
    "merged_cubes = cubes.merge()\n",
    "print(merged_cubes)"
   ]
  },
  {
   "cell_type": "markdown",
   "metadata": {},
   "source": [
    "Iris includes functionality to simplify the identification process for causes of failed merges. The ``merge_cube`` method of a CubeList expects the list of cubes to contain only cubes that can be merged to produce a single cube. If they do not merge to a single cube, a descriptive exception will be raised. For instance:\n",
    "\n",
    "```\n",
    "   >>> cubes.merge_cube()\n",
    "   Traceback (most recent call last):\n",
    "     File \"<stdin>\", line 1, in <module>\n",
    "     ...\n",
    "   iris.exceptions.MergeError: failed to merge into a single cube.\n",
    "     Coordinates in cube.aux_coords (scalar) differ: realization.\n",
    "```"
   ]
  },
  {
   "cell_type": "markdown",
   "metadata": {},
   "source": [
    "## 3.2 Concatenate<a id='concatenate'></a>\n",
    "\n",
    "We have seen that merge combines a list of cubes with a common scalar coordinate to produce a single cube with a new dimension created from these scalar values.\n",
    "\n",
    "But what happens if you try to combine cubes along a common dimension?"
   ]
  },
  {
   "cell_type": "code",
   "execution_count": null,
   "metadata": {},
   "outputs": [],
   "source": [
    "fname = iris.sample_data_path('A1B_north_america.nc')\n",
    "cube = iris.load_cube(fname)\n",
    "\n",
    "cube_1 = cube[:10]\n",
    "cube_2 = cube[10:20]\n",
    "cubes = iris.cube.CubeList([cube_1, cube_2])\n",
    "print(cubes)"
   ]
  },
  {
   "cell_type": "markdown",
   "metadata": {},
   "source": [
    "These cubes should be able to be merged; after all, they have both come from the same original cube!"
   ]
  },
  {
   "cell_type": "code",
   "execution_count": null,
   "metadata": {},
   "outputs": [],
   "source": [
    "print(cubes.merge())"
   ]
  },
  {
   "cell_type": "markdown",
   "metadata": {},
   "source": [
    "Merge cannot be used to combine common non-scalar coordinates. Instead we must use concatenate, which joins together (\"concatenates\") common non-scalar coordinates to produce a single cube with the common dimension extended:"
   ]
  },
  {
   "cell_type": "code",
   "execution_count": null,
   "metadata": {},
   "outputs": [],
   "source": [
    "print(cubes.concatenate())"
   ]
  },
  {
   "cell_type": "markdown",
   "metadata": {},
   "source": [
    "As with merge, Iris contains functionality to simplify the identification process for causes of failed concatenations. The ``concatenate_cube`` method of a CubeList expects the list of cubes to contain only cubes that can be concatenated to produce a single cube. If they do not concatenate to a single cube, a descriptive error will be raised. For instance:\n",
    "\n",
    "```\n",
    "    >>> print cubes.concatenate_cube()\n",
    "    Traceback (most recent call last):\n",
    "      ...\n",
    "    iris.exceptions.ConcatenateError: failed to concatenate into a single cube.\n",
    "      Scalar coordinates differ: forecast_reference_time, height != forecast_reference_time\n",
    "```"
   ]
  },
  {
   "cell_type": "markdown",
   "metadata": {},
   "source": [
    "### Exercise 3 : Solving Merge problems\n",
    "\n",
    "The following exercise is designed to give you experience of solving issues that prevent a merge from taking place.\n",
    "The output from ``merge_cube`` is included to help with identification, and once a fix has been identified, ``raw_cubes.merge()`` should result in a CubeList containing a single cube:\n",
    "\n",
    "The first exercise is completed below:"
   ]
  },
  {
   "cell_type": "markdown",
   "metadata": {},
   "source": [
    "1\\. Identify and resolve the issue preventing the merge of ``air_potential_temperature`` cubes from ``resources/merge_exercise.1.*.nc``.\n",
    "\n",
    "    >>> raw_cubes = iris.load_raw('resources/merge_exercise.1.*.nc', 'air_potential_temperature')\n",
    "    >>> raw_cubes.merge_cube()\n",
    "    Traceback (most recent call last):\n",
    "    ...\n",
    "    iris.exceptions.MergeError: failed to merge into a single cube.\n",
    "      cube.attributes keys differ: 'History'\n"
   ]
  },
  {
   "cell_type": "code",
   "execution_count": null,
   "metadata": {},
   "outputs": [],
   "source": [
    "raw_cubes = iris.load_raw('resources/merge_exercise.1.*.nc', 'air_potential_temperature')\n",
    "\n",
    "# Print the attributes, clearly one is different.\n",
    "for cube in raw_cubes:\n",
    "    print(cube.attributes)\n",
    "\n",
    "# Remove the history attribute from the first cube.\n",
    "del raw_cubes[0].attributes['History']\n",
    "\n",
    "# Check that this has meant that a merge now results in a single cube.\n",
    "print('--' * 50)\n",
    "print(raw_cubes.merge())"
   ]
  },
  {
   "cell_type": "markdown",
   "metadata": {},
   "source": [
    "2\\. Identify and resolve the issue preventing the merge of ``air_potential_temperature`` cubes from ``resources/merge_exercise.5.*.nc`` (hint: can these cubes be merged?).\n",
    "\n",
    "    >>> raw_cubes = iris.load_raw('resources/merge_exercise.5.*.nc', 'air_potential_temperature')\n",
    "    >>> raw_cubes.merge_cube()\n",
    "    Traceback (most recent call last):\n",
    "    ...\n",
    "    iris.exceptions.MergeError: failed to merge into a single cube.\n",
    "      Coordinates in cube.dim_coords differ: time."
   ]
  },
  {
   "cell_type": "markdown",
   "metadata": {},
   "source": [
    "## 3.3 Section Summary : Cube Control<a id='summary'></a>\n",
    "\n",
    "In this section we learnt:\n",
    "* Merging is used to join cubes into a larger combined dataset\n",
    "* Concatenation is a similar operation, used in slightly different circumstances to merging.\n"
   ]
  },
  {
   "cell_type": "code",
   "execution_count": null,
   "metadata": {},
   "outputs": [],
   "source": []
  }
 ],
 "metadata": {
  "kernelspec": {
   "display_name": "Python 3",
   "language": "python",
   "name": "python3"
  },
  "language_info": {
   "codemirror_mode": {
    "name": "ipython",
    "version": 3
   },
   "file_extension": ".py",
   "mimetype": "text/x-python",
   "name": "python",
   "nbconvert_exporter": "python",
   "pygments_lexer": "ipython3",
   "version": "3.6.6"
  }
 },
 "nbformat": 4,
 "nbformat_minor": 2
}
