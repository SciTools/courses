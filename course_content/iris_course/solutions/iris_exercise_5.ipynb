{
 "cells": [
  {
   "cell_type": "code",
   "execution_count": null,
   "metadata": {},
   "outputs": [],
   "source": [
    "import iris\n",
    "import iris.quickplot as qplt\n",
    "import matplotlib.pyplot as plt\n",
    "import cartopy.crs as ccrs"
   ]
  },
  {
   "cell_type": "markdown",
   "metadata": {},
   "source": [
    "### Application: Exercise 5\n",
    "\n",
    "Let's apply all that we've learned about data processing and visualisation in Iris. We will perform data processing and visualisation to compare two possible climate futures scenarios, called the A1B scenario and the E1 scenario."
   ]
  },
  {
   "cell_type": "markdown",
   "metadata": {},
   "source": [
    "1\\. Load as cubes the datasets found at `iris.sample_data_path('E1_north_america.nc')` and `iris.sample_data_path('A1B_north_america.nc')`. Print the summary of each cube."
   ]
  },
  {
   "cell_type": "code",
   "execution_count": null,
   "metadata": {},
   "outputs": [],
   "source": [
    "e1, = iris.load(iris.sample_data_path('E1_north_america.nc'))\n",
    "a1b, = iris.load(iris.sample_data_path('A1B_north_america.nc'))\n",
    "\n",
    "print(e1.summary(True))\n",
    "print('--' * 50)\n",
    "print(a1b.summary(True))"
   ]
  },
  {
   "cell_type": "markdown",
   "metadata": {},
   "source": [
    "2a\\. Plot the following data in a single figure with three maps in one row:\n",
    "\n",
    " * the air temperature in the E1 scenario in 2099, \n",
    " * the air temperature in the A1B scenario in 2099, and\n",
    " * the difference between the two scenarios.\n",
    "\n",
    "Think about the most appropriate matplotlib colormap(s) to use for each plot. Hint: the different matplotlib colormaps can be seen at https://matplotlib.org/1.5.3/examples/color/colormaps_reference.html. "
   ]
  },
  {
   "cell_type": "code",
   "execution_count": null,
   "metadata": {},
   "outputs": [],
   "source": [
    "fig = plt.figure(figsize=(12, 3))\n",
    "cube_crs = e1.coord_system().as_cartopy_projection()\n",
    " \n",
    "e1_ax = plt.subplot(1, 3, 1, projection=cube_crs)\n",
    "qplt.contourf(e1[-1, ...], 25, cmap='inferno')\n",
    "e1_ax.coastlines()\n",
    "e1_ax.set_title('E1: Air Temperature')\n",
    "\n",
    "a1b_ax = plt.subplot(1, 3, 2, projection=cube_crs)\n",
    "qplt.contourf(a1b[-1, ...], 25, cmap='inferno')\n",
    "a1b_ax.coastlines()\n",
    "a1b_ax.set_title('A1B: Air Temperature')\n",
    "\n",
    "diff = a1b - e1\n",
    "diff_ax = plt.subplot(1, 3, 3, projection=cube_crs)\n",
    "qplt.contourf(diff[-1, ...], 25, cmap='inferno')\n",
    "diff_ax.coastlines()\n",
    "diff_ax.set_title('Air Temperature Difference')\n",
    "\n",
    "plt.show()"
   ]
  },
  {
   "cell_type": "markdown",
   "metadata": {},
   "source": [
    "2b\\. What information do your plots show? "
   ]
  },
  {
   "cell_type": "raw",
   "metadata": {
    "collapsed": true
   },
   "source": [
    "1. Temperatures in the A1B are on average higher than for E1 scenario.\n",
    "2. The difference between the two scenarios shows that A1B predicts about 10 degrees more warming in the Hudson Bay region than E1."
   ]
  },
  {
   "cell_type": "markdown",
   "metadata": {},
   "source": [
    "3\\. Produce cubes that describe the area-averaged air temperature over time for each scenario. Calculate the model difference between these two cubes."
   ]
  },
  {
   "cell_type": "code",
   "execution_count": null,
   "metadata": {},
   "outputs": [],
   "source": [
    "e1_area_avg = e1.collapsed(['longitude', 'latitude'], iris.analysis.MEAN)\n",
    "\n",
    "a1b_area_avg = a1b.collapsed(['longitude', 'latitude'], iris.analysis.MEAN)\n",
    "\n",
    "diff_area_avg = a1b_area_avg - e1_area_avg"
   ]
  },
  {
   "cell_type": "markdown",
   "metadata": {},
   "source": [
    "4\\. Produce a single line plot with the data from the two cubes you produced in part 3. Make sure you label the lines you plot."
   ]
  },
  {
   "cell_type": "code",
   "execution_count": null,
   "metadata": {},
   "outputs": [],
   "source": [
    "qplt.plot(e1_area_avg.coord('time'), e1_area_avg, 'b')\n",
    "qplt.plot(a1b_area_avg.coord('time'), a1b_area_avg, 'r')\n",
    "\n",
    "plt.show()"
   ]
  },
  {
   "cell_type": "markdown",
   "metadata": {},
   "source": [
    "5\\. Extract and compare the area-averaged air temperature values for both scenarios in 1980 and 2099. What conclusions can you draw from the values you've extracted?"
   ]
  },
  {
   "cell_type": "code",
   "execution_count": null,
   "metadata": {},
   "outputs": [],
   "source": [
    "time_constraint = iris.Constraint(time=lambda c: 1980 < c.point.year <= 2099)\n",
    "\n",
    "e1_constrained = e1_area_avg.extract(time_constraint)\n",
    "a1b_constrained = a1b_area_avg.extract(time_constraint)\n",
    "\n",
    "qplt.plot(e1_constrained.coord('time'), e1_constrained, 'b')\n",
    "qplt.plot(a1b_constrained.coord('time'), a1b_constrained, 'r')\n",
    "\n",
    "plt.show()"
   ]
  },
  {
   "cell_type": "raw",
   "metadata": {},
   "source": [
    "Conclusions:\n",
    "- Until 1998 the models produce exactly the same air temperature values.\n",
    "- After 1998 A1B shows a steeper increase in temperature than E1.\n",
    "- A1B rises for the full time period, while E1 plateaus after about 2040."
   ]
  }
 ],
 "metadata": {
  "kernelspec": {
   "display_name": "Python 3",
   "language": "python",
   "name": "python3"
  },
  "language_info": {
   "codemirror_mode": {
    "name": "ipython",
    "version": 3
   },
   "file_extension": ".py",
   "mimetype": "text/x-python",
   "name": "python",
   "nbconvert_exporter": "python",
   "pygments_lexer": "ipython3",
   "version": "3.6.5"
  }
 },
 "nbformat": 4,
 "nbformat_minor": 1
}
