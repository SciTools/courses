{
 "cells": [
  {
   "cell_type": "code",
   "execution_count": null,
   "metadata": {},
   "outputs": [],
   "source": [
    "%matplotlib inline"
   ]
  },
  {
   "cell_type": "markdown",
   "metadata": {},
   "source": [
    "## Iris introduction course\n",
    "# 5. Data Processing\n",
    "\n",
    "**Learning Outcome**: by the end of this section, you will be able to apply arithmetic and statistical operations on cube data.\n",
    "\n",
    "**Duration:** 1.5 hour\n",
    "\n",
    "**Overview:**<br>\n",
    "5.1 [Cube Arithmetic](#arithmetic)<br>\n",
    "5.2 [Aggregation and Statistics](#agg_and_stats)<br>\n",
    "5.3 [Exercise : statistics and visualisation](#ex_5)<br>\n",
    "5.4 [Summary of the Section](#summary)"
   ]
  },
  {
   "cell_type": "markdown",
   "metadata": {},
   "source": [
    "## Setup"
   ]
  },
  {
   "cell_type": "code",
   "execution_count": null,
   "metadata": {},
   "outputs": [],
   "source": [
    "import iris\n",
    "import numpy as np"
   ]
  },
  {
   "cell_type": "markdown",
   "metadata": {},
   "source": [
    "## 5.1 Cube Arithmetic<a id='arithmetic'></a>\n",
    "\n",
    "Basic mathematical operators exist on the cube to allow one to add, subtract, divide, multiply and perform other mathematical operations on cubes of a similar shape to one another:"
   ]
  },
  {
   "cell_type": "code",
   "execution_count": null,
   "metadata": {},
   "outputs": [],
   "source": [
    "a1b = iris.load_cube(iris.sample_data_path('A1B_north_america.nc'))\n",
    "e1 = iris.load_cube(iris.sample_data_path('E1_north_america.nc'))\n",
    "\n",
    "print(e1.summary(True))\n",
    "print(a1b)"
   ]
  },
  {
   "cell_type": "code",
   "execution_count": null,
   "metadata": {},
   "outputs": [],
   "source": [
    "scenario_difference = a1b - e1\n",
    "print(scenario_difference)"
   ]
  },
  {
   "cell_type": "markdown",
   "metadata": {},
   "source": [
    "Notice that the resultant cube's name is now `unknown` and that resultant cube's `attributes` and `cell_methods` have disappeared; this is because these all differed between the two input cubes."
   ]
  },
  {
   "cell_type": "markdown",
   "metadata": {},
   "source": [
    "----\n",
    "\n",
    "<div class=\"alert alert-block alert-warning\">\n",
    "    <b><font color='brown'>Exercise: </font></b>\n",
    "    <p>Work out which aspects of the cube metadata have changed in the difference result, and print them out.</p>\n",
    "    <p>What do you think is the purpose of these changes in the result ?</p>\n",
    "    <p>What other metadata <i>is</i> preserved ?</p>\n",
    "</div>"
   ]
  },
  {
   "cell_type": "code",
   "execution_count": null,
   "metadata": {},
   "outputs": [],
   "source": [
    "names, cubes = ('A1B', 'E1', 'difference'), (a1b, e1, scenario_difference)\n",
    "\n",
    "print('Cube names:')\n",
    "print('    A1b  = {}'.format(a1b.name()))\n",
    "print('    E1   = {}'.format(e1.name()))\n",
    "print('    diff = {}'.format(scenario_difference.name()))\n",
    "print('result name was cleared')\n",
    "\n",
    "print('')\n",
    "print('Cube attribute names:')\n",
    "print('    A1b  = {}'.format(a1b.attributes))\n",
    "print('    E1   = {}'.format(e1.attributes))\n",
    "print('    diff = {}'.format(scenario_difference.attributes))\n",
    "print('result attributes were cleared')\n",
    "\n",
    "print('')\n",
    "print('Cube cell-methods:')\n",
    "print('    A1b  = {}'.format(a1b.cell_methods))\n",
    "print('    E1   = {}'.format(e1.cell_methods))\n",
    "print('    diff = {}'.format(scenario_difference.cell_methods))\n",
    "print('result cell methods were removed')\n",
    "\n",
    "print('')\n",
    "print('The name, cell-methods and attributes of the result cube are empty, '\n",
    "      'because these generally will not be correct for the result cube. '\n",
    "      'In this case, for example, the difference result is not an \"air_temperature\", '\n",
    "      'nor is it a specific STASH code, nor is it a mean of 6-hourly values.')\n",
    "print('')\n",
    "print('The coordinates of the original data are preserved in the result cube.')"
   ]
  },
  {
   "cell_type": "markdown",
   "metadata": {},
   "source": [
    "----\n",
    "\n",
    "It is also possible to operate on cubes with numeric scalars, NumPy arrays and even cube coordinates.\n",
    "\n",
    "<div class=\"alert alert-block alert-warning\">\n",
    "    <b><font color='brown'>Exercise: </font></b>\n",
    "    <p>Can you multiply the 'e1' air temperature cube by its own latitude coordinate ?</p>\n",
    "    <p>What are the units of the result ?</p>\n",
    "</div>"
   ]
  },
  {
   "cell_type": "code",
   "execution_count": null,
   "metadata": {},
   "outputs": [],
   "source": [
    "product = e1 * e1.coord('latitude')\n",
    "print(product)\n",
    "print('')\n",
    "print('New units are : \"{}\"'.format(product.units))"
   ]
  },
  {
   "cell_type": "markdown",
   "metadata": {},
   "source": [
    "----\n",
    "\n",
    "Although a cube's units can be freely set to any valid unit, the calculation of result units and compatibility checking is built into the arithmetic operations.\n",
    "\n",
    "For example:"
   ]
  },
  {
   "cell_type": "code",
   "execution_count": null,
   "metadata": {},
   "outputs": [],
   "source": [
    "six_feet = iris.cube.Cube(6.0, units='feet')\n",
    "twelve_days = iris.cube.Cube(12.0, units='days')\n",
    "print(six_feet / twelve_days)"
   ]
  },
  {
   "cell_type": "markdown",
   "metadata": {},
   "source": [
    "<div class=\"alert alert-block alert-warning\">\n",
    "    <b><font color='brown'>Exercise: </font></b>\n",
    "    <p>What do you predict will result from adding together the 'six_feet' and 'twelve_days' cubes ?</p>\n",
    "</div>"
   ]
  },
  {
   "cell_type": "code",
   "execution_count": null,
   "metadata": {},
   "outputs": [],
   "source": [
    "try:\n",
    "    result = six_feet + twelve_days\n",
    "except Exception as err:\n",
    "    print('Exception occurred : {}'.format(err))"
   ]
  },
  {
   "cell_type": "markdown",
   "metadata": {},
   "source": [
    "----\n",
    "\n",
    "Note that you can update the cube's data and metadata directly, for instance by assigning to `cube.data`, `cube.standard_name` or `cube.units`.  When you do this, though, you need to be careful that the metadata is still an accurate description.  By changing data explicitly you are basically stating that the result is correct."
   ]
  },
  {
   "cell_type": "markdown",
   "metadata": {},
   "source": [
    "<div class=\"alert alert-block alert-warning\">\n",
    "    <b><font color='brown'>Exercise: </font></b>\n",
    "    <p>What happens if you change the name of `e1` to 'potential_temperature' ?</p>\n",
    "    <p>What is the meaning of the resulting data cube ?</p>\n",
    "    <p>What happens if you then set the units of this to a time period ?</p>\n",
    "</div>"
   ]
  },
  {
   "cell_type": "code",
   "execution_count": null,
   "metadata": {},
   "outputs": [],
   "source": [
    "e1_copy = e1.copy()\n",
    "e1_copy.rename('potential_temperature')\n",
    "print(e1_copy.summary(shorten=True))\n",
    "print(\"The cube name is simply changed to the requested name.\")\n",
    "print(\"NOTE: however these aren't really potential temperatures at all, the values were absolute temperatures.\")\n",
    "print('')\n",
    "e1_copy.units = 'days'\n",
    "print(e1_copy.summary(shorten=True))\n",
    "print(\"NOTE: 'potential_temperature' can't be measured in 'days' at all, but Iris takes no notice of this.\"\n",
    "      \"\\n  - ** HANDLE WITH CARE !!** \")"
   ]
  },
  {
   "cell_type": "markdown",
   "metadata": {},
   "source": [
    "----\n",
    "\n",
    "Another function of cube arithmetic is to support 'broadcasting', in the numpy sense :  operations between data with different shapes.\n",
    "\n",
    "In fact we already saw this above, with `product = e1 * e1.coord('latitude')`.\n",
    "\n",
    "Broadcasting is simpler in Iris than in numpy, because how the dimensions \"line up\" is determined by matching coordinates, rather than depending on the ordering of dimensions.\n",
    "\n",
    "<div class=\"alert alert-block alert-warning\">\n",
    "    <b><font color='brown'>Exercise: </font></b>\n",
    "    <p>The basic result values in the above example,\n",
    "        <b><font face=courier color=\"black\">product = e1 * e1.coord('latitude')</font></b>, \n",
    "        come from multiplying <font face=courier color=\"black\">e1<b>.data</b></font> \n",
    "        times <font face=courier color=\"black\">e1.coord('latitude')<b>.points</b></font>.</p>\n",
    "    <p>What happens if you simply multiply those two arrays, and are the values the same ?</p>\n",
    "</div>"
   ]
  },
  {
   "cell_type": "code",
   "execution_count": null,
   "metadata": {},
   "outputs": [],
   "source": [
    "# Remembering this calculation, from above ...\n",
    "product = e1 * e1.coord('latitude')\n",
    "\n",
    "# Equivalent plain array multiply does not work.\n",
    "try:\n",
    "    array = e1.data * e1.coord('latitude').points\n",
    "except Exception as err:\n",
    "    print('Simple array multiply gives error : {}'.format(err))\n",
    "\n",
    "# To get it right in numpy, adjust shapes to align the correct dimensions.\n",
    "lats_adjusted = e1.coord('latitude').points.reshape(1, 37, 1)\n",
    "print('Corrected latitudes shape : {}'.format(lats_adjusted.shape))\n",
    "array = e1.data * lats_adjusted\n",
    "print('Same result ? {}'.format(np.all(array == product.data)))"
   ]
  },
  {
   "cell_type": "markdown",
   "metadata": {},
   "source": [
    "An even simpler example of broadcasting is doing arithmetic between a cube and a scalar value.\n",
    "\n",
    "<div class=\"alert alert-block alert-warning\">\n",
    "    <b><font color='brown'>Exercise: </font></b>\n",
    "    <p>What happens if you add <b><font face='courier' color='black'>5.2</font></b> to the <b><font face='courier' color='black'>e1</font></b> cube ?</p>\n",
    "    <p>What is the meaning of the result ?</p>\n",
    "</div>"
   ]
  },
  {
   "cell_type": "code",
   "execution_count": null,
   "metadata": {},
   "outputs": [],
   "source": [
    "print('e1 is :\\n  {}'.format(e1.summary(shorten=True)))\n",
    "result = e1 + 5.2\n",
    "print('e1 plus 5.2 is:\\n  {}'.format(result.summary(shorten=True)))\n",
    "print('These are all the temperature values, offset by another 5.2 (Kelvin).'\n",
    "      '\\n  (Note : standard name is removed).')"
   ]
  },
  {
   "cell_type": "markdown",
   "metadata": {},
   "source": [
    "If the scalar is just a value, like this, then it is assumed to have the same units as the cube.\n",
    "\n",
    "However, if the scalar is a cube or coordinate then it has its own units which take part in the calculation,\n",
    "as seen above in the \"feet per day\" calculation."
   ]
  },
  {
   "cell_type": "markdown",
   "metadata": {},
   "source": [
    "## 5.2 Cube aggregation and statistics<a id='agg_and_stats'></a>\n",
    "\n",
    "Many standard univariate aggregations exist in Iris. Aggregations allow one or more dimensions of a cube to be statistically collapsed for the purposes of statistical analysis of the cube's data. Iris uses the term 'aggregators' to refer to the statistical operations that can be used for aggregation.\n",
    "\n",
    "A list of aggregators is available at http://scitools.org.uk/iris/docs/latest/iris/iris/analysis.html."
   ]
  },
  {
   "cell_type": "code",
   "execution_count": null,
   "metadata": {},
   "outputs": [],
   "source": [
    "fname = iris.sample_data_path('uk_hires.pp')\n",
    "cube = iris.load_cube(fname, 'air_potential_temperature')\n",
    "print(cube.summary(True))"
   ]
  },
  {
   "cell_type": "markdown",
   "metadata": {},
   "source": [
    "To take the vertical mean of this cube:"
   ]
  },
  {
   "cell_type": "code",
   "execution_count": null,
   "metadata": {},
   "outputs": [],
   "source": [
    "print(cube.collapsed('model_level_number', iris.analysis.MEAN))"
   ]
  },
  {
   "cell_type": "markdown",
   "metadata": {},
   "source": [
    "NOTE: the printout shows that the result has a cell method of \"mean: model_level_number\".  Cell methods are a [CF metadata convention](http://cfconventions.org/Data/cf-conventions/cf-conventions-1.7/cf-conventions.html#cell-methods) which records that data are the results of statistical operations.\n",
    "\n",
    "----\n",
    "\n",
    "<div class=\"alert alert-block alert-warning\">\n",
    "    <b><font color='brown'>Exercise: </font></b>\n",
    "    <p>How can you calculate all-time minimum temperatures for this data, and what is the form of the result ?</p>\n",
    "</div>"
   ]
  },
  {
   "cell_type": "code",
   "execution_count": null,
   "metadata": {},
   "outputs": [],
   "source": [
    "min_temps = e1.collapsed('time', iris.analysis.MIN)\n",
    "print(min_temps)\n",
    "print('')\n",
    "print('The result is 2D, shape={}'.format(min_temps.shape))"
   ]
  },
  {
   "cell_type": "markdown",
   "metadata": {},
   "source": [
    "----\n",
    "\n",
    "In addition to \"collapse\", other types of statistical reductions are also possible.  These also use aggregators to define the statistic.  See the following documentation areas :\n",
    "\n",
    " * [Cube.collapsed](https://scitools.org.uk/iris/docs/latest/iris/iris/cube.html?highlight=collapsed#iris.cube.Cube.collapsed), as discussed above.\n",
    " * [Cube.rolling_window](https://scitools.org.uk/iris/docs/latest/iris/iris/cube.html?highlight=rolling#iris.cube.Cube.rolling_window).\n",
    " * [Cube.aggregated_by](https://scitools.org.uk/iris/docs/latest/iris/iris/cube.html?highlight=aggregated_by#iris.cube.Cube.aggregated_by), used with the [coord_categorisation module](https://scitools.org.uk/iris/docs/latest/iris/iris/coord_categorisation.html?highlight=categor#module-iris.coord_categorisation).  \n",
    "This provides calculations of a \"group-by-and-reduce\" pattern  -- these are explained later in section 6, \"Advanced Concepts\"."
   ]
  },
  {
   "cell_type": "markdown",
   "metadata": {},
   "source": []
  },
  {
   "cell_type": "markdown",
   "metadata": {},
   "source": [
    "## 5.3 : Section Review Exercise : Arithmetic and Statistics<a id='ex_5'></a>\n",
    "\n",
    "Let's apply all that we've learned about data processing and visualisation in Iris. We will perform data processing and visualisation to compare two possible climate futures scenarios, called the A1B scenario and the E1 scenario."
   ]
  },
  {
   "cell_type": "markdown",
   "metadata": {},
   "source": [
    "1\\. Load as cubes the datasets found at `iris.sample_data_path('E1_north_america.nc')` and `iris.sample_data_path('A1B_north_america.nc')`. Print the summary of each cube."
   ]
  },
  {
   "cell_type": "code",
   "execution_count": null,
   "metadata": {},
   "outputs": [],
   "source": [
    "cube_e1 = iris.load_cube(iris.sample_data_path('E1_north_america.nc'))\n",
    "cube_a1b = iris.load_cube(iris.sample_data_path('A1B_north_america.nc'))\n",
    "print(cube_e1.summary())\n",
    "print(cube_a1b.summary())"
   ]
  },
  {
   "cell_type": "markdown",
   "metadata": {},
   "source": [
    "2a\\. Plot the following data in a single figure with three maps in one row:\n",
    "\n",
    " * the air temperature in the E1 scenario for the year 2099, \n",
    " * the air temperature in the A1B scenario for the year 2099, and\n",
    " * the difference between the two scenarios.\n",
    "\n",
    "Think about the most appropriate matplotlib colormap(s) to use for each plot. Hint: the different matplotlib colormaps can be seen at https://matplotlib.org/1.5.3/examples/color/colormaps_reference.html. \n",
    "\n",
    "2b\\. What information do your plots show? "
   ]
  },
  {
   "cell_type": "code",
   "execution_count": null,
   "metadata": {},
   "outputs": [],
   "source": [
    "# First extract only one year from each.\n",
    "def date_in_year_2099(time_cell):\n",
    "    return time_cell.point.year == 2099\n",
    "\n",
    "year_2099_constraint = iris.Constraint(time=date_in_year_2099)\n",
    "e1_2099 = cube_e1.extract(year_2099_constraint)\n",
    "a1b_2099 = cube_a1b.extract(year_2099_constraint)\n",
    "\n",
    "# Print the results : only one timepoint, so they are 2-D.\n",
    "print(e1_2099.summary(shorten=True))\n",
    "print(a1b_2099.summary(shorten=True))\n",
    "\n",
    "# Calculate the difference.\n",
    "difference = a1b_2099 - e1_2099\n",
    "\n",
    "# Plot them ...\n",
    "import matplotlib.pyplot as plt\n",
    "import iris.quickplot as qplt\n",
    "\n",
    "plt.figure(figsize=(16,6))\n",
    "\n",
    "originals_min = min(e1_2099.data.min(), a1b_2099.data.min())\n",
    "originals_max = max(e1_2099.data.max(), a1b_2099.data.max())\n",
    "\n",
    "# Display forecast temperatures on an absolute colour scale, with the same value range for both.\n",
    "# The difference is rather hard to see, so specify a high-contrast colormap to help with that.\n",
    "plt.subplot(1, 3, 1)\n",
    "qplt.pcolormesh(e1_2099, vmin=originals_min, vmax=originals_max, cmap='brg')\n",
    "plt.title('Scenario E1, year 2099')\n",
    "\n",
    "plt.subplot(1, 3, 2)\n",
    "qplt.pcolormesh(a1b_2099, vmin=originals_min, vmax=originals_max, cmap='brg')\n",
    "plt.title('Scenario A1B, year 2099')\n",
    "\n",
    "plt.subplot(1, 3, 3)\n",
    "# Calculate symmetrical limits for a zero-centred value range.\n",
    "diff_min, diff_max = np.min(difference.data), np.max(difference.data)\n",
    "diff_maxscale = max(diff_max, -diff_min)\n",
    "# Plot with a 'diverging' colormap, suitable to the zero-centred value range.\n",
    "qplt.pcolormesh(difference, vmin=-diff_maxscale, vmax=diff_maxscale, cmap='bwr')\n",
    "plt.title('Temperature difference A1B - E1,\\n year 2099')\n",
    "\n",
    "print('Note: the last plot is the difference.\\n'\n",
    "      'This uses a \"diverging\" colour scale to show values above and below zero.\\n',\n",
    "      'All the values are positive, so it actually only has shades of red.')\n"
   ]
  },
  {
   "cell_type": "markdown",
   "metadata": {},
   "source": [
    "3\\. Produce cubes that describe the area-averaged air temperature over time for each scenario. Calculate the model difference between these two cubes.\n",
    "\n",
    "HINT: see the documentation on [iris.cube.Cube.collapsed](https://scitools.org.uk/iris/docs/latest/iris/iris/cube.html#iris.cube.Cube.collapsed)\n",
    "and [iris.analysis.cartography.area_weights](https://scitools.org.uk/iris/docs/latest/iris/iris/analysis/cartography.html#iris.analysis.cartography.area_weights)\n"
   ]
  },
  {
   "cell_type": "code",
   "execution_count": null,
   "metadata": {},
   "outputs": [],
   "source": [
    "import iris.analysis.cartography as icart\n",
    "for cube in (cube_e1, cube_a1b):\n",
    "    for axis in ('x', 'y'):\n",
    "        coord = cube.coord(axis=axis)\n",
    "        if not coord.has_bounds():\n",
    "            coord.guess_bounds()\n",
    "\n",
    "area_weights = icart.area_weights(cube_e1)\n",
    "\n",
    "e1_areamean = cube_e1.collapsed(['latitude', 'longitude'], iris.analysis.MEAN, weights=area_weights)\n",
    "a1b_areamean = cube_a1b.collapsed(['latitude', 'longitude'], iris.analysis.MEAN, weights=area_weights)\n",
    "difference_areamean = a1b_areamean - e1_areamean\n",
    "difference_areamean.rename('Temperature difference, A1B - E1')\n",
    "print(difference_areamean)"
   ]
  },
  {
   "cell_type": "markdown",
   "metadata": {},
   "source": [
    "4\\. Produce a single line plot with the data from the two absolute temperature cubes you produced in part 3. Make sure you label the lines you plot.  Also plot the difference \"e1 - a1b\" for comparison."
   ]
  },
  {
   "cell_type": "code",
   "execution_count": null,
   "metadata": {},
   "outputs": [],
   "source": [
    "# Use iplt rather than qplt, to avoid overlapping titles.\n",
    "import iris.plot as iplt\n",
    "\n",
    "plt.figure(figsize=(12,12))\n",
    "plt.subplot(211)\n",
    "iplt.plot(e1_areamean, '+-', color='blue', label='E1')\n",
    "iplt.plot(a1b_areamean, '+-', color='red', label='A1B')\n",
    "ax = plt.gca()\n",
    "plt.legend()\n",
    "# plt.show()\n",
    "\n",
    "# Show the difference also.\n",
    "plt.subplot(212)\n",
    "iplt.plot(difference_areamean, '+-')\n",
    "plt.title('Difference : scenarios E1 - A1B')"
   ]
  },
  {
   "cell_type": "markdown",
   "metadata": {},
   "source": [
    "----"
   ]
  },
  {
   "cell_type": "markdown",
   "metadata": {},
   "source": [
    "## 5.4 Summary of Section: Data processing<a id='summary'></a>\n",
    "\n",
    "In this section we learnt:\n",
    "* cubes can be combined with arithmetic operators like addition, as for numpy arrays.  Broadcasting also works.\n",
    "* coordinates can also be used in cube arithmetic. \n",
    "* operators are provided to perform statistical aggregations of cube data.\n",
    "* statistics can be calculated over selected dimensions, identified by coordinates.\n"
   ]
  }
 ],
 "metadata": {
  "kernelspec": {
   "display_name": "Python 3",
   "language": "python",
   "name": "python3"
  },
  "language_info": {
   "codemirror_mode": {
    "name": "ipython",
    "version": 3
   },
   "file_extension": ".py",
   "mimetype": "text/x-python",
   "name": "python",
   "nbconvert_exporter": "python",
   "pygments_lexer": "ipython3",
   "version": "3.6.8"
  }
 },
 "nbformat": 4,
 "nbformat_minor": 1
}
